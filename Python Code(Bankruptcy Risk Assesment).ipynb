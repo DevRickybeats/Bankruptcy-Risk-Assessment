{
 "cells": [
  {
   "cell_type": "code",
   "execution_count": 79,
   "id": "66d13911-3094-4b68-91ab-4b650e9e2115",
   "metadata": {
    "scrolled": true
   },
   "outputs": [],
   "source": [
    "import warnings\n",
    "warnings.filterwarnings(\"ignore\")  # To suppress any warnings\n",
    "import pandas as pd\n",
    "import numpy as np\n",
    "import seaborn as sns\n",
    "import matplotlib.pyplot as plt\n",
    "from matplotlib import pyplot\n",
    "from imblearn.over_sampling import SMOTE, RandomOverSampler\n",
    "from imblearn.under_sampling import RandomUnderSampler, NearMiss\n",
    "from sklearn.model_selection import train_test_split\n",
    "from sklearn.metrics import accuracy_score, classification_report\n",
    "import xgboost as xgb\n",
    "from sklearn.ensemble import RandomForestClassifier\n",
    "\n",
    "\n",
    "\n",
    "#DEEP LEARNING\n",
    "import pandas as pd\n",
    "from tensorflow.keras.models import Sequential\n",
    "from tensorflow.keras.layers import Embedding, LSTM, Dense\n",
    "\n",
    "from keras.models import Sequential\n",
    "from keras.layers import Conv1D, MaxPooling1D, Flatten, Dense, LSTM, Dropout\n",
    "\n"
   ]
  },
  {
   "cell_type": "code",
   "execution_count": 80,
   "id": "2a4231cf-51e2-45fc-a5e2-07a7951067e0",
   "metadata": {
    "scrolled": true
   },
   "outputs": [
    {
     "data": {
      "text/html": [
       "<div>\n",
       "<style scoped>\n",
       "    .dataframe tbody tr th:only-of-type {\n",
       "        vertical-align: middle;\n",
       "    }\n",
       "\n",
       "    .dataframe tbody tr th {\n",
       "        vertical-align: top;\n",
       "    }\n",
       "\n",
       "    .dataframe thead th {\n",
       "        text-align: right;\n",
       "    }\n",
       "</style>\n",
       "<table border=\"1\" class=\"dataframe\">\n",
       "  <thead>\n",
       "    <tr style=\"text-align: right;\">\n",
       "      <th></th>\n",
       "      <th>company_name</th>\n",
       "      <th>status_label</th>\n",
       "      <th>year</th>\n",
       "      <th>X1</th>\n",
       "      <th>X2</th>\n",
       "      <th>X3</th>\n",
       "      <th>X4</th>\n",
       "      <th>X5</th>\n",
       "      <th>X6</th>\n",
       "      <th>X7</th>\n",
       "      <th>...</th>\n",
       "      <th>X9</th>\n",
       "      <th>X10</th>\n",
       "      <th>X11</th>\n",
       "      <th>X12</th>\n",
       "      <th>X13</th>\n",
       "      <th>X14</th>\n",
       "      <th>X15</th>\n",
       "      <th>X16</th>\n",
       "      <th>X17</th>\n",
       "      <th>X18</th>\n",
       "    </tr>\n",
       "  </thead>\n",
       "  <tbody>\n",
       "    <tr>\n",
       "      <th>0</th>\n",
       "      <td>C_1</td>\n",
       "      <td>alive</td>\n",
       "      <td>1999</td>\n",
       "      <td>511.267</td>\n",
       "      <td>833.107</td>\n",
       "      <td>18.373</td>\n",
       "      <td>89.031</td>\n",
       "      <td>336.018</td>\n",
       "      <td>35.163</td>\n",
       "      <td>128.348</td>\n",
       "      <td>...</td>\n",
       "      <td>1024.333</td>\n",
       "      <td>740.998</td>\n",
       "      <td>180.447</td>\n",
       "      <td>70.658</td>\n",
       "      <td>191.226</td>\n",
       "      <td>163.816</td>\n",
       "      <td>201.026</td>\n",
       "      <td>1024.333</td>\n",
       "      <td>401.483</td>\n",
       "      <td>935.302</td>\n",
       "    </tr>\n",
       "    <tr>\n",
       "      <th>1</th>\n",
       "      <td>C_1</td>\n",
       "      <td>alive</td>\n",
       "      <td>2000</td>\n",
       "      <td>485.856</td>\n",
       "      <td>713.811</td>\n",
       "      <td>18.577</td>\n",
       "      <td>64.367</td>\n",
       "      <td>320.590</td>\n",
       "      <td>18.531</td>\n",
       "      <td>115.187</td>\n",
       "      <td>...</td>\n",
       "      <td>874.255</td>\n",
       "      <td>701.854</td>\n",
       "      <td>179.987</td>\n",
       "      <td>45.790</td>\n",
       "      <td>160.444</td>\n",
       "      <td>125.392</td>\n",
       "      <td>204.065</td>\n",
       "      <td>874.255</td>\n",
       "      <td>361.642</td>\n",
       "      <td>809.888</td>\n",
       "    </tr>\n",
       "    <tr>\n",
       "      <th>2</th>\n",
       "      <td>C_1</td>\n",
       "      <td>alive</td>\n",
       "      <td>2001</td>\n",
       "      <td>436.656</td>\n",
       "      <td>526.477</td>\n",
       "      <td>22.496</td>\n",
       "      <td>27.207</td>\n",
       "      <td>286.588</td>\n",
       "      <td>-58.939</td>\n",
       "      <td>77.528</td>\n",
       "      <td>...</td>\n",
       "      <td>638.721</td>\n",
       "      <td>710.199</td>\n",
       "      <td>217.699</td>\n",
       "      <td>4.711</td>\n",
       "      <td>112.244</td>\n",
       "      <td>150.464</td>\n",
       "      <td>139.603</td>\n",
       "      <td>638.721</td>\n",
       "      <td>399.964</td>\n",
       "      <td>611.514</td>\n",
       "    </tr>\n",
       "    <tr>\n",
       "      <th>3</th>\n",
       "      <td>C_1</td>\n",
       "      <td>alive</td>\n",
       "      <td>2002</td>\n",
       "      <td>396.412</td>\n",
       "      <td>496.747</td>\n",
       "      <td>27.172</td>\n",
       "      <td>30.745</td>\n",
       "      <td>259.954</td>\n",
       "      <td>-12.410</td>\n",
       "      <td>66.322</td>\n",
       "      <td>...</td>\n",
       "      <td>606.337</td>\n",
       "      <td>686.621</td>\n",
       "      <td>164.658</td>\n",
       "      <td>3.573</td>\n",
       "      <td>109.590</td>\n",
       "      <td>203.575</td>\n",
       "      <td>124.106</td>\n",
       "      <td>606.337</td>\n",
       "      <td>391.633</td>\n",
       "      <td>575.592</td>\n",
       "    </tr>\n",
       "    <tr>\n",
       "      <th>4</th>\n",
       "      <td>C_1</td>\n",
       "      <td>alive</td>\n",
       "      <td>2003</td>\n",
       "      <td>432.204</td>\n",
       "      <td>523.302</td>\n",
       "      <td>26.680</td>\n",
       "      <td>47.491</td>\n",
       "      <td>247.245</td>\n",
       "      <td>3.504</td>\n",
       "      <td>104.661</td>\n",
       "      <td>...</td>\n",
       "      <td>651.958</td>\n",
       "      <td>709.292</td>\n",
       "      <td>248.666</td>\n",
       "      <td>20.811</td>\n",
       "      <td>128.656</td>\n",
       "      <td>131.261</td>\n",
       "      <td>131.884</td>\n",
       "      <td>651.958</td>\n",
       "      <td>407.608</td>\n",
       "      <td>604.467</td>\n",
       "    </tr>\n",
       "    <tr>\n",
       "      <th>5</th>\n",
       "      <td>C_1</td>\n",
       "      <td>alive</td>\n",
       "      <td>2004</td>\n",
       "      <td>474.542</td>\n",
       "      <td>598.172</td>\n",
       "      <td>27.950</td>\n",
       "      <td>61.774</td>\n",
       "      <td>255.477</td>\n",
       "      <td>15.453</td>\n",
       "      <td>127.121</td>\n",
       "      <td>...</td>\n",
       "      <td>747.848</td>\n",
       "      <td>732.230</td>\n",
       "      <td>227.159</td>\n",
       "      <td>33.824</td>\n",
       "      <td>149.676</td>\n",
       "      <td>160.025</td>\n",
       "      <td>142.450</td>\n",
       "      <td>747.848</td>\n",
       "      <td>417.486</td>\n",
       "      <td>686.074</td>\n",
       "    </tr>\n",
       "    <tr>\n",
       "      <th>6</th>\n",
       "      <td>C_1</td>\n",
       "      <td>alive</td>\n",
       "      <td>2005</td>\n",
       "      <td>624.454</td>\n",
       "      <td>704.081</td>\n",
       "      <td>29.222</td>\n",
       "      <td>91.877</td>\n",
       "      <td>323.592</td>\n",
       "      <td>35.163</td>\n",
       "      <td>136.272</td>\n",
       "      <td>...</td>\n",
       "      <td>897.284</td>\n",
       "      <td>978.819</td>\n",
       "      <td>318.576</td>\n",
       "      <td>62.655</td>\n",
       "      <td>193.203</td>\n",
       "      <td>187.788</td>\n",
       "      <td>183.550</td>\n",
       "      <td>897.284</td>\n",
       "      <td>556.102</td>\n",
       "      <td>805.407</td>\n",
       "    </tr>\n",
       "    <tr>\n",
       "      <th>7</th>\n",
       "      <td>C_1</td>\n",
       "      <td>alive</td>\n",
       "      <td>2006</td>\n",
       "      <td>645.721</td>\n",
       "      <td>837.171</td>\n",
       "      <td>32.199</td>\n",
       "      <td>118.907</td>\n",
       "      <td>342.593</td>\n",
       "      <td>58.660</td>\n",
       "      <td>181.691</td>\n",
       "      <td>...</td>\n",
       "      <td>1061.169</td>\n",
       "      <td>1067.633</td>\n",
       "      <td>253.611</td>\n",
       "      <td>86.708</td>\n",
       "      <td>223.998</td>\n",
       "      <td>256.506</td>\n",
       "      <td>242.153</td>\n",
       "      <td>1061.169</td>\n",
       "      <td>573.390</td>\n",
       "      <td>942.262</td>\n",
       "    </tr>\n",
       "    <tr>\n",
       "      <th>8</th>\n",
       "      <td>C_1</td>\n",
       "      <td>alive</td>\n",
       "      <td>2007</td>\n",
       "      <td>783.431</td>\n",
       "      <td>1080.895</td>\n",
       "      <td>39.952</td>\n",
       "      <td>168.522</td>\n",
       "      <td>435.608</td>\n",
       "      <td>75.144</td>\n",
       "      <td>202.472</td>\n",
       "      <td>...</td>\n",
       "      <td>1384.919</td>\n",
       "      <td>1362.010</td>\n",
       "      <td>507.918</td>\n",
       "      <td>128.570</td>\n",
       "      <td>304.024</td>\n",
       "      <td>218.499</td>\n",
       "      <td>318.184</td>\n",
       "      <td>1384.919</td>\n",
       "      <td>776.755</td>\n",
       "      <td>1216.397</td>\n",
       "    </tr>\n",
       "    <tr>\n",
       "      <th>9</th>\n",
       "      <td>C_1</td>\n",
       "      <td>alive</td>\n",
       "      <td>2008</td>\n",
       "      <td>851.312</td>\n",
       "      <td>1110.677</td>\n",
       "      <td>40.551</td>\n",
       "      <td>166.080</td>\n",
       "      <td>477.424</td>\n",
       "      <td>78.651</td>\n",
       "      <td>227.300</td>\n",
       "      <td>...</td>\n",
       "      <td>1423.976</td>\n",
       "      <td>1377.511</td>\n",
       "      <td>392.984</td>\n",
       "      <td>125.529</td>\n",
       "      <td>313.299</td>\n",
       "      <td>254.418</td>\n",
       "      <td>385.851</td>\n",
       "      <td>1423.976</td>\n",
       "      <td>720.616</td>\n",
       "      <td>1257.896</td>\n",
       "    </tr>\n",
       "  </tbody>\n",
       "</table>\n",
       "<p>10 rows × 21 columns</p>\n",
       "</div>"
      ],
      "text/plain": [
       "  company_name status_label  year       X1        X2      X3       X4  \\\n",
       "0          C_1        alive  1999  511.267   833.107  18.373   89.031   \n",
       "1          C_1        alive  2000  485.856   713.811  18.577   64.367   \n",
       "2          C_1        alive  2001  436.656   526.477  22.496   27.207   \n",
       "3          C_1        alive  2002  396.412   496.747  27.172   30.745   \n",
       "4          C_1        alive  2003  432.204   523.302  26.680   47.491   \n",
       "5          C_1        alive  2004  474.542   598.172  27.950   61.774   \n",
       "6          C_1        alive  2005  624.454   704.081  29.222   91.877   \n",
       "7          C_1        alive  2006  645.721   837.171  32.199  118.907   \n",
       "8          C_1        alive  2007  783.431  1080.895  39.952  168.522   \n",
       "9          C_1        alive  2008  851.312  1110.677  40.551  166.080   \n",
       "\n",
       "        X5      X6       X7  ...        X9       X10      X11      X12  \\\n",
       "0  336.018  35.163  128.348  ...  1024.333   740.998  180.447   70.658   \n",
       "1  320.590  18.531  115.187  ...   874.255   701.854  179.987   45.790   \n",
       "2  286.588 -58.939   77.528  ...   638.721   710.199  217.699    4.711   \n",
       "3  259.954 -12.410   66.322  ...   606.337   686.621  164.658    3.573   \n",
       "4  247.245   3.504  104.661  ...   651.958   709.292  248.666   20.811   \n",
       "5  255.477  15.453  127.121  ...   747.848   732.230  227.159   33.824   \n",
       "6  323.592  35.163  136.272  ...   897.284   978.819  318.576   62.655   \n",
       "7  342.593  58.660  181.691  ...  1061.169  1067.633  253.611   86.708   \n",
       "8  435.608  75.144  202.472  ...  1384.919  1362.010  507.918  128.570   \n",
       "9  477.424  78.651  227.300  ...  1423.976  1377.511  392.984  125.529   \n",
       "\n",
       "       X13      X14      X15       X16      X17       X18  \n",
       "0  191.226  163.816  201.026  1024.333  401.483   935.302  \n",
       "1  160.444  125.392  204.065   874.255  361.642   809.888  \n",
       "2  112.244  150.464  139.603   638.721  399.964   611.514  \n",
       "3  109.590  203.575  124.106   606.337  391.633   575.592  \n",
       "4  128.656  131.261  131.884   651.958  407.608   604.467  \n",
       "5  149.676  160.025  142.450   747.848  417.486   686.074  \n",
       "6  193.203  187.788  183.550   897.284  556.102   805.407  \n",
       "7  223.998  256.506  242.153  1061.169  573.390   942.262  \n",
       "8  304.024  218.499  318.184  1384.919  776.755  1216.397  \n",
       "9  313.299  254.418  385.851  1423.976  720.616  1257.896  \n",
       "\n",
       "[10 rows x 21 columns]"
      ]
     },
     "execution_count": 80,
     "metadata": {},
     "output_type": "execute_result"
    }
   ],
   "source": [
    "original_df = pd.read_csv(\"american_bankruptcy.csv\")\n",
    "original_df.head(10)"
   ]
  },
  {
   "cell_type": "code",
   "execution_count": 81,
   "id": "6d21c28e-8e59-42bc-848c-3d75cd7793c3",
   "metadata": {},
   "outputs": [
    {
     "name": "stdout",
     "output_type": "stream",
     "text": [
      "<class 'pandas.core.frame.DataFrame'>\n",
      "RangeIndex: 78682 entries, 0 to 78681\n",
      "Data columns (total 21 columns):\n",
      " #   Column        Non-Null Count  Dtype  \n",
      "---  ------        --------------  -----  \n",
      " 0   company_name  78682 non-null  object \n",
      " 1   status_label  78682 non-null  object \n",
      " 2   year          78682 non-null  int64  \n",
      " 3   X1            78682 non-null  float64\n",
      " 4   X2            78682 non-null  float64\n",
      " 5   X3            78682 non-null  float64\n",
      " 6   X4            78682 non-null  float64\n",
      " 7   X5            78682 non-null  float64\n",
      " 8   X6            78682 non-null  float64\n",
      " 9   X7            78682 non-null  float64\n",
      " 10  X8            78682 non-null  float64\n",
      " 11  X9            78682 non-null  float64\n",
      " 12  X10           78682 non-null  float64\n",
      " 13  X11           78682 non-null  float64\n",
      " 14  X12           78682 non-null  float64\n",
      " 15  X13           78682 non-null  float64\n",
      " 16  X14           78682 non-null  float64\n",
      " 17  X15           78682 non-null  float64\n",
      " 18  X16           78682 non-null  float64\n",
      " 19  X17           78682 non-null  float64\n",
      " 20  X18           78682 non-null  float64\n",
      "dtypes: float64(18), int64(1), object(2)\n",
      "memory usage: 12.6+ MB\n"
     ]
    }
   ],
   "source": [
    "original_df.info()"
   ]
  },
  {
   "cell_type": "code",
   "execution_count": 82,
   "id": "5b1099f0-276b-4803-ad82-7d341fffbfbb",
   "metadata": {},
   "outputs": [],
   "source": [
    "bankruptcy_counts = original_df['status_label'].value_counts()"
   ]
  },
  {
   "cell_type": "code",
   "execution_count": 83,
   "id": "b95394a7-adfa-4e81-97a2-a570d9de12a1",
   "metadata": {},
   "outputs": [
    {
     "name": "stdout",
     "output_type": "stream",
     "text": [
      "status_label\n",
      "alive     73462\n",
      "failed     5220\n",
      "Name: count, dtype: int64\n"
     ]
    }
   ],
   "source": [
    "print(bankruptcy_counts)"
   ]
  },
  {
   "cell_type": "code",
   "execution_count": 84,
   "id": "390a93ae-b959-4993-90bc-7b4ca830b9e4",
   "metadata": {},
   "outputs": [
    {
     "data": {
      "text/plain": [
       "(78682, 21)"
      ]
     },
     "execution_count": 84,
     "metadata": {},
     "output_type": "execute_result"
    }
   ],
   "source": [
    "original_df.shape"
   ]
  },
  {
   "cell_type": "markdown",
   "id": "b2973b19-10bb-49d5-9ebc-79186e262846",
   "metadata": {},
   "source": [
    "The dataset has 78682 rows and 21 columns(Financial ratios)"
   ]
  },
  {
   "cell_type": "code",
   "execution_count": 85,
   "id": "9ef825d9-dca9-418c-a413-d9b5d4697a29",
   "metadata": {},
   "outputs": [
    {
     "data": {
      "text/plain": [
       "company_name    0.0\n",
       "status_label    0.0\n",
       "year            0.0\n",
       "X1              0.0\n",
       "X2              0.0\n",
       "X3              0.0\n",
       "X4              0.0\n",
       "X5              0.0\n",
       "X6              0.0\n",
       "X7              0.0\n",
       "X8              0.0\n",
       "X9              0.0\n",
       "X10             0.0\n",
       "X11             0.0\n",
       "X12             0.0\n",
       "X13             0.0\n",
       "X14             0.0\n",
       "X15             0.0\n",
       "X16             0.0\n",
       "X17             0.0\n",
       "X18             0.0\n",
       "dtype: float64"
      ]
     },
     "execution_count": 85,
     "metadata": {},
     "output_type": "execute_result"
    }
   ],
   "source": [
    "original_df.isnull().mean()"
   ]
  },
  {
   "cell_type": "markdown",
   "id": "d9a324ce-1efc-494d-ab38-ddce3449cd81",
   "metadata": {},
   "source": [
    "There are no null values in the dataset"
   ]
  },
  {
   "cell_type": "raw",
   "id": "62a467b5-3385-4161-8d47-67d21d21dad7",
   "metadata": {},
   "source": [
    "company_name = name of the company\n",
    "status_label = o for failed and 1 for bankrupt\n",
    "x1 = current assets\n",
    "x2 = cost of sold goods\n",
    "x3 = Depreciation and amortization\n",
    "x4 = EBITDA(Earnings before interest, taxes, depreciation, and amortization)\n",
    "x5 = Inventory\n",
    "x6 = Net income\n",
    "x7 = Total receivables\n",
    "x8 = Market Value\n",
    "x9 = Net Sales\n",
    "x10 = Total Assets\n",
    "x11 = Total long term debt\n",
    "x12 = EBIT(Earnings before interest and taxes.)\n",
    "x13 = Gross Profit\n",
    "x14 = Total current liabilities\n",
    "x15 = Retained Earnings\n",
    "x16 = Total Revenue\n",
    "x17 = Total Liabilities\n",
    "x18 = Total Operating Expenses"
   ]
  },
  {
   "cell_type": "markdown",
   "id": "87dc8397-5cfe-4235-bde5-05a2a8974670",
   "metadata": {},
   "source": [
    "## EXPLORATORY DATA ANALYSIS"
   ]
  },
  {
   "cell_type": "code",
   "execution_count": 86,
   "id": "c9ddd503-927e-40f8-822f-8bc3b9917cdf",
   "metadata": {},
   "outputs": [
    {
     "data": {
      "text/plain": [
       "Text(0.5, 1.0, 'Bankruptcy Distribution')"
      ]
     },
     "execution_count": 86,
     "metadata": {},
     "output_type": "execute_result"
    },
    {
     "data": {
      "image/png": "[encoded data removed]",
      "text/plain": [
       "<Figure size 640x480 with 1 Axes>"
      ]
     },
     "metadata": {},
     "output_type": "display_data"
    }
   ],
   "source": [
    "sns.countplot(x=original_df['status_label'],palette='colorblind')\n",
    "plt.title('Bankruptcy Distribution')"
   ]
  },
  {
   "cell_type": "markdown",
   "id": "36003e55-d819-466e-b7e3-accd5d9384ce",
   "metadata": {},
   "source": [
    "The dataset is highly unbalanced"
   ]
  },
  {
   "cell_type": "markdown",
   "id": "8dbe9aee-67f0-42ad-b6fc-b8442ef7cd4d",
   "metadata": {},
   "source": [
    "### Impact of Assets on Bankruptcy"
   ]
  },
  {
   "cell_type": "code",
   "execution_count": 87,
   "id": "a804f5de-6f53-4dbe-a59f-fa106e24aeed",
   "metadata": {},
   "outputs": [
    {
     "data": {
      "image/png": "[encoded data removed]",
      "text/plain": [
       "<Figure size 640x480 with 1 Axes>"
      ]
     },
     "metadata": {},
     "output_type": "display_data"
    }
   ],
   "source": [
    "asset_status_bar = original_df.groupby('status_label')['X1'].mean()\n",
    "asset_status_bar.plot(kind='bar')\n",
    "plt.xlabel('Company Status')\n",
    "plt.ylabel('Average Current Assets')\n",
    "plt.title('Impact of Assets on Bankruptcy')\n",
    "plt.show()"
   ]
  },
  {
   "cell_type": "raw",
   "id": "2efe2d99-4457-4e09-af82-dcb91a60e033",
   "metadata": {},
   "source": [
    "Failed companies generally have less current assets compared to alive companies"
   ]
  },
  {
   "cell_type": "markdown",
   "id": "bd074ef5-f88b-484c-9953-72b47b0a3905",
   "metadata": {},
   "source": [
    "### Impact of Depreciation and Ammortization on Bankruptcy"
   ]
  },
  {
   "cell_type": "code",
   "execution_count": 88,
   "id": "77dde095-83d2-4c31-a613-6903e2efe7a0",
   "metadata": {},
   "outputs": [
    {
     "data": {
      "image/png": "[encoded data removed]",
      "text/plain": [
       "<Figure size 640x480 with 1 Axes>"
      ]
     },
     "metadata": {},
     "output_type": "display_data"
    }
   ],
   "source": [
    "dep_and_am_status_bar = original_df.groupby('status_label')['X3'].mean()\n",
    "dep_and_am_status_bar.plot(kind='bar')\n",
    "plt.xlabel('Company Status')\n",
    "plt.ylabel('Average Depreciation and Ammortization')\n",
    "plt.title('Impact of Depreciation and Ammortization on Bankruptcy')\n",
    "plt.show()"
   ]
  },
  {
   "cell_type": "markdown",
   "id": "c8dc68d6-1da2-414f-9158-b0a14738c9fe",
   "metadata": {
    "scrolled": true
   },
   "source": [
    "Alive companies have higher depreciation on tangible and intangible assets"
   ]
  },
  {
   "cell_type": "markdown",
   "id": "be9444b9-6ca0-4f88-8e5d-b43929d31fb7",
   "metadata": {},
   "source": [
    "### Impact of EBITDA on Bankruptcy"
   ]
  },
  {
   "cell_type": "code",
   "execution_count": 89,
   "id": "af473f91-8ea8-4e11-977e-e51539d448b0",
   "metadata": {},
   "outputs": [
    {
     "data": {
      "image/png": "[encoded data removed]",
      "text/plain": [
       "<Figure size 640x480 with 1 Axes>"
      ]
     },
     "metadata": {},
     "output_type": "display_data"
    }
   ],
   "source": [
    "EBITDA_status_bar = original_df.groupby('status_label')['X4'].mean()\n",
    "asset_status_bar.plot(kind='bar')\n",
    "plt.xlabel('Company Status')\n",
    "plt.ylabel('Average EBITDA')\n",
    "plt.title('Impact of EBITDA on Bankruptcy')\n",
    "plt.show()"
   ]
  },
  {
   "cell_type": "raw",
   "id": "b633dfb8-e88f-4036-8dd4-a07cb4d0b94c",
   "metadata": {},
   "source": [
    "Alive companies have higher EBITDA compared to failed companies"
   ]
  },
  {
   "cell_type": "markdown",
   "id": "7fe82599-b403-47c6-a55c-51660e9fc168",
   "metadata": {},
   "source": [
    "### Impact of Inventory on Bankruptcy"
   ]
  },
  {
   "cell_type": "code",
   "execution_count": 90,
   "id": "bb3e572c-49c0-4d45-b859-ef05b15a245f",
   "metadata": {},
   "outputs": [
    {
     "data": {
      "image/png": "[encoded data removed]",
      "text/plain": [
       "<Figure size 640x480 with 1 Axes>"
      ]
     },
     "metadata": {},
     "output_type": "display_data"
    }
   ],
   "source": [
    "inventory_status_bar = original_df.groupby('status_label')['X5'].mean()\n",
    "inventory_status_bar.plot(kind='bar')\n",
    "plt.xlabel('Company Status')\n",
    "plt.ylabel('Average Inventory')\n",
    "plt.title('Impact of Inventory on Bankruptcy')\n",
    "plt.show()"
   ]
  },
  {
   "cell_type": "raw",
   "id": "abbdb5fd-fcac-42c4-b4ad-bbfcd6f5c7b5",
   "metadata": {},
   "source": [
    "Failed companies have significantly lower inventory compared to alive companies"
   ]
  },
  {
   "cell_type": "markdown",
   "id": "5312f882-bb11-4a79-a3ab-8b5662a27a90",
   "metadata": {},
   "source": [
    "### Impact of Net Income on Bankruptcy"
   ]
  },
  {
   "cell_type": "code",
   "execution_count": 91,
   "id": "06a9d705-91aa-480b-ab86-7702ec80a599",
   "metadata": {},
   "outputs": [
    {
     "data": {
      "image/png": "[encoded data removed]",
      "text/plain": [
       "<Figure size 640x480 with 1 Axes>"
      ]
     },
     "metadata": {},
     "output_type": "display_data"
    }
   ],
   "source": [
    "inventory_status_bar = original_df.groupby('status_label')['X6'].mean()\n",
    "inventory_status_bar.plot(kind='bar')\n",
    "plt.xlabel('Company Status')\n",
    "plt.ylabel('Average Net Income')\n",
    "plt.title('Impact of Net Income on Bankruptcy')\n",
    "plt.show()"
   ]
  },
  {
   "cell_type": "markdown",
   "id": "ee2cd341-f272-4cd6-bc8c-98fbe09bfe75",
   "metadata": {},
   "source": [
    "Failed Companies have a negative net income. Alive companies have a positive net income"
   ]
  },
  {
   "cell_type": "markdown",
   "id": "a1aa2a9e-9d1c-4b69-81c5-d9d2ec9c90c2",
   "metadata": {},
   "source": [
    "### Impact of Receivables balance on Bankruptcy"
   ]
  },
  {
   "cell_type": "code",
   "execution_count": 92,
   "id": "65bdfd0a-dbfd-43f2-9a79-2eb1ed8d64f2",
   "metadata": {},
   "outputs": [
    {
     "data": {
      "image/png": "[encoded data removed]",
      "text/plain": [
       "<Figure size 640x480 with 1 Axes>"
      ]
     },
     "metadata": {},
     "output_type": "display_data"
    }
   ],
   "source": [
    "receivables_status_bar = original_df.groupby('status_label')['X7'].mean()\n",
    "receivables_status_bar.plot(kind='bar')\n",
    "plt.xlabel('Company Status')\n",
    "plt.ylabel('Average Receivables')\n",
    "plt.title('Impact of Receivables balance on Bankruptcy')\n",
    "plt.show()"
   ]
  },
  {
   "cell_type": "markdown",
   "id": "6abb6fde-913b-4417-aede-071a303e7dee",
   "metadata": {},
   "source": [
    "Alive companies have higher receivables than failed companies"
   ]
  },
  {
   "cell_type": "markdown",
   "id": "8394a358-080f-453e-bed6-ffc7593e5e26",
   "metadata": {},
   "source": [
    "### Impact of Market Value on Bankruptcy"
   ]
  },
  {
   "cell_type": "code",
   "execution_count": 93,
   "id": "4b1cba7f-dac4-45a4-8ced-d9c5d3d2be93",
   "metadata": {},
   "outputs": [
    {
     "data": {
      "image/png": "[encoded data removed]",
      "text/plain": [
       "<Figure size 640x480 with 1 Axes>"
      ]
     },
     "metadata": {},
     "output_type": "display_data"
    }
   ],
   "source": [
    "mktvalue_status_bar = original_df.groupby('status_label')['X8'].mean()\n",
    "mktvalue_status_bar.plot(kind='bar')\n",
    "plt.xlabel('Company Status')\n",
    "plt.ylabel('Average Market Value')\n",
    "plt.title('Impact of Market Value on Bankruptcy')\n",
    "plt.show()"
   ]
  },
  {
   "cell_type": "markdown",
   "id": "fe665dab-0f78-4a18-8d30-40d67ef0e2af",
   "metadata": {},
   "source": [
    "Failed companies have a significantly lower market value"
   ]
  },
  {
   "cell_type": "markdown",
   "id": "6bd8aa2d-bd04-42ff-b406-3ccf2922710f",
   "metadata": {},
   "source": [
    "### Impact of Market Value on Bankruptcy"
   ]
  },
  {
   "cell_type": "code",
   "execution_count": 94,
   "id": "a55ef30a-4161-470c-a9c1-53046ee44add",
   "metadata": {},
   "outputs": [
    {
     "data": {
      "image/png": "[encoded data removed]",
      "text/plain": [
       "<Figure size 640x480 with 1 Axes>"
      ]
     },
     "metadata": {},
     "output_type": "display_data"
    }
   ],
   "source": [
    "netsales_status_bar = original_df.groupby('status_label')['X9'].mean()\n",
    "netsales_status_bar.plot(kind='bar')\n",
    "plt.xlabel('Company Status')\n",
    "plt.ylabel('Average Net Sales')\n",
    "plt.title('Impact of Net Sales on Bankruptcy')\n",
    "plt.show()"
   ]
  },
  {
   "cell_type": "markdown",
   "id": "6af9eed4-db5e-405c-8636-8d44f9a3c97c",
   "metadata": {},
   "source": [
    "### Impact of Assets on Bankruptcy"
   ]
  },
  {
   "cell_type": "code",
   "execution_count": 95,
   "id": "d7feabd4-89cc-47f3-a84b-401740a1092a",
   "metadata": {},
   "outputs": [
    {
     "data": {
      "image/png": "[encoded data removed]",
      "text/plain": [
       "<Figure size 640x480 with 1 Axes>"
      ]
     },
     "metadata": {},
     "output_type": "display_data"
    }
   ],
   "source": [
    "assets_status_bar = original_df.groupby('status_label')['X10'].mean()\n",
    "assets_status_bar.plot(kind='bar')\n",
    "plt.xlabel('Company Status')\n",
    "plt.ylabel('Assets')\n",
    "plt.title('Impact of Assets on Bankruptcy')\n",
    "plt.show()"
   ]
  },
  {
   "cell_type": "raw",
   "id": "6d661355-0fec-4a8d-bd29-70e8e9cd8601",
   "metadata": {},
   "source": [
    "Failed companies have significantly less assets. "
   ]
  },
  {
   "cell_type": "markdown",
   "id": "d70e6b9c-1c16-48de-a8ec-21105ad1ba4a",
   "metadata": {},
   "source": [
    "### Impact of long-term debt on bankruptcy"
   ]
  },
  {
   "cell_type": "code",
   "execution_count": 96,
   "id": "c5706b8c-d4e5-4c4c-a3df-5447408346f6",
   "metadata": {},
   "outputs": [
    {
     "data": {
      "image/png": "[encoded data removed]",
      "text/plain": [
       "<Figure size 640x480 with 1 Axes>"
      ]
     },
     "metadata": {},
     "output_type": "display_data"
    }
   ],
   "source": [
    "ltd_status_bar = original_df.groupby('status_label')['X11'].mean()\n",
    "ltd_status_bar.plot(kind='bar')\n",
    "plt.xlabel('Company Status')\n",
    "plt.ylabel('Long-term Debt')\n",
    "plt.title('Impact of Long-term debt on Bankruptcy')\n",
    "plt.show()"
   ]
  },
  {
   "cell_type": "raw",
   "id": "89e15e85-d47c-477f-9ec4-7bf734852787",
   "metadata": {},
   "source": [
    "Failed companies have less long-term debt. "
   ]
  },
  {
   "cell_type": "markdown",
   "id": "4483faf7-f9ac-4e87-8004-2db70c2fd238",
   "metadata": {},
   "source": [
    "### Impact of EBIT on bankruptcy"
   ]
  },
  {
   "cell_type": "code",
   "execution_count": 97,
   "id": "7a7b9a4b-4ba8-46b9-af80-0267a5fd75a3",
   "metadata": {},
   "outputs": [
    {
     "data": {
      "image/png": "[encoded data removed]",
      "text/plain": [
       "<Figure size 640x480 with 1 Axes>"
      ]
     },
     "metadata": {},
     "output_type": "display_data"
    }
   ],
   "source": [
    "ebit_status_bar = original_df.groupby('status_label')['X12'].mean()\n",
    "ebit_status_bar.plot(kind='bar')\n",
    "plt.xlabel('Company Status')\n",
    "plt.ylabel('EBIT')\n",
    "plt.title('Impact of EBIT on Bankruptcy')\n",
    "plt.show()"
   ]
  },
  {
   "cell_type": "markdown",
   "id": "b38c6850-ffcd-4722-b01c-cedb8d2572b3",
   "metadata": {},
   "source": [
    "### Impact of Gross Profit on Bankruptcy"
   ]
  },
  {
   "cell_type": "code",
   "execution_count": 98,
   "id": "b03c3fcc-33a2-4caf-8a7f-5a75951f9136",
   "metadata": {},
   "outputs": [
    {
     "data": {
      "image/png": "[encoded data removed]",
      "text/plain": [
       "<Figure size 640x480 with 1 Axes>"
      ]
     },
     "metadata": {},
     "output_type": "display_data"
    }
   ],
   "source": [
    "gross_status_bar = original_df.groupby('status_label')['X13'].mean()\n",
    "gross_status_bar.plot(kind='bar')\n",
    "plt.xlabel('Company Status')\n",
    "plt.ylabel('Gross Profit')\n",
    "plt.title('Impact of Gross Profit on Bankruptcy')\n",
    "plt.show()"
   ]
  },
  {
   "cell_type": "raw",
   "id": "02327bec-c8bc-4ed3-8ebf-89fdb9b798e9",
   "metadata": {},
   "source": [
    "Alive companies have significantly more gross profit. "
   ]
  },
  {
   "cell_type": "markdown",
   "id": "67f96cb5-86b5-44b3-bb09-601ad61a0355",
   "metadata": {},
   "source": [
    "### Impact of Current Liabilities on bankruptcy"
   ]
  },
  {
   "cell_type": "code",
   "execution_count": 99,
   "id": "761c1650-4f27-4387-9f76-f04ac95c9e77",
   "metadata": {},
   "outputs": [
    {
     "data": {
      "image/png": "[encoded data removed]",
      "text/plain": [
       "<Figure size 640x480 with 1 Axes>"
      ]
     },
     "metadata": {},
     "output_type": "display_data"
    }
   ],
   "source": [
    "liabilities_status_bar = original_df.groupby('status_label')['X14'].mean()\n",
    "liabilities_status_bar.plot(kind='bar')\n",
    "plt.xlabel('Company Status')\n",
    "plt.ylabel('Total Current Liabilities')\n",
    "plt.title('Impact of Liabilities on Bankruptcy')\n",
    "plt.show()"
   ]
  },
  {
   "cell_type": "raw",
   "id": "f0c0075e-85b3-4e36-9cd0-13bce03df5a1",
   "metadata": {},
   "source": [
    "Alive companies have more current liabilities"
   ]
  },
  {
   "cell_type": "markdown",
   "id": "ab7fcc16-8ce2-4854-8073-e276064d3d3c",
   "metadata": {},
   "source": [
    "### Impact of retained earnings in bankruptcy"
   ]
  },
  {
   "cell_type": "code",
   "execution_count": 100,
   "id": "47f86463-cac7-4da0-8339-ce8eed10548a",
   "metadata": {},
   "outputs": [
    {
     "data": {
      "image/png": "[encoded data removed]",
      "text/plain": [
       "<Figure size 640x480 with 1 Axes>"
      ]
     },
     "metadata": {},
     "output_type": "display_data"
    }
   ],
   "source": [
    "retained_status_bar = original_df.groupby('status_label')['X15'].mean()\n",
    "retained_status_bar.plot(kind='bar')\n",
    "plt.xlabel('Company Status')\n",
    "plt.ylabel('Retained Earnings')\n",
    "plt.title('Impact of retained earnings on Bankruptcy')\n",
    "plt.show()"
   ]
  },
  {
   "cell_type": "raw",
   "id": "93672fc3-921b-4ba4-9df0-2e56b23ed6ec",
   "metadata": {},
   "source": [
    "Failed companies have negative retained earnings"
   ]
  },
  {
   "cell_type": "markdown",
   "id": "dd14f160-5f09-45eb-88bd-27e7e4f659df",
   "metadata": {},
   "source": [
    "### impact of revenue on Bankruptcy"
   ]
  },
  {
   "cell_type": "code",
   "execution_count": 101,
   "id": "6eb87e9c-dbf3-4618-bb5e-c61af5afb20e",
   "metadata": {},
   "outputs": [
    {
     "data": {
      "image/png": "[encoded data removed]",
      "text/plain": [
       "<Figure size 640x480 with 1 Axes>"
      ]
     },
     "metadata": {},
     "output_type": "display_data"
    }
   ],
   "source": [
    "revenue_status_bar = original_df.groupby('status_label')['X16'].mean()\n",
    "revenue_status_bar.plot(kind='bar')\n",
    "plt.xlabel('Company Status')\n",
    "plt.ylabel('Total Revenue')\n",
    "plt.title('Impact of revenue on Bankruptcy')\n",
    "plt.show()"
   ]
  },
  {
   "cell_type": "raw",
   "id": "066e7dd9-5513-4811-a2b8-54fd15040294",
   "metadata": {},
   "source": [
    "Alive companies have significantly more revenue"
   ]
  },
  {
   "cell_type": "markdown",
   "id": "a0f12f49-80af-44af-bf36-df5f13a3dad0",
   "metadata": {},
   "source": [
    "### Impact of Total Liabilities on Bankruptcy"
   ]
  },
  {
   "cell_type": "code",
   "execution_count": 102,
   "id": "60efc851-2fa1-4341-bc02-793027715bba",
   "metadata": {},
   "outputs": [
    {
     "data": {
      "image/png": "[encoded data removed]",
      "text/plain": [
       "<Figure size 640x480 with 1 Axes>"
      ]
     },
     "metadata": {},
     "output_type": "display_data"
    }
   ],
   "source": [
    "liabilities_status_bar = original_df.groupby('status_label')['X17'].mean()\n",
    "liabilities_status_bar.plot(kind='bar')\n",
    "plt.xlabel('Company Status')\n",
    "plt.ylabel('Total Liabilities')\n",
    "plt.title('Impact of Liabilities on Bankruptcy')\n",
    "plt.show()"
   ]
  },
  {
   "cell_type": "markdown",
   "id": "9e7980d5-ed85-451a-90a2-763005bbd5f8",
   "metadata": {},
   "source": [
    "### Impact of Operating Expenses on Bankruptcy"
   ]
  },
  {
   "cell_type": "code",
   "execution_count": 103,
   "id": "d1beb951-93f6-4529-b363-fbeeb475a71a",
   "metadata": {},
   "outputs": [
    {
     "data": {
      "image/png": "[encoded data removed]",
      "text/plain": [
       "<Figure size 640x480 with 1 Axes>"
      ]
     },
     "metadata": {},
     "output_type": "display_data"
    }
   ],
   "source": [
    "operexpenses_status_bar = original_df.groupby('status_label')['X18'].mean()\n",
    "operexpenses_status_bar.plot(kind='bar')\n",
    "plt.xlabel('Company Status')\n",
    "plt.ylabel('Operating Expenses')\n",
    "plt.title('Impact of Operating Expenses on Bankruptcy')\n",
    "plt.show()"
   ]
  },
  {
   "cell_type": "raw",
   "id": "69a7f5ed-4c8d-4a68-b355-562e1b4383c5",
   "metadata": {},
   "source": [
    "Alive companies have more operating expenses compared to failed companies"
   ]
  },
  {
   "cell_type": "markdown",
   "id": "402c9b06-6f66-42db-9df7-a9cd090e5cfd",
   "metadata": {},
   "source": [
    "# FEATURE SELECTION"
   ]
  },
  {
   "cell_type": "code",
   "execution_count": 104,
   "id": "7a3c4d4c-5ec8-439c-a1ae-e5f1869e0971",
   "metadata": {},
   "outputs": [],
   "source": [
    "original_df['status_label'] = original_df['status_label'].replace({'alive': 1, 'failed': 0})"
   ]
  },
  {
   "cell_type": "code",
   "execution_count": 105,
   "id": "056ca1bd-809f-48b7-865a-eaaad5caabf1",
   "metadata": {},
   "outputs": [],
   "source": [
    "original_df = original_df.drop('company_name', axis=1)"
   ]
  },
  {
   "cell_type": "code",
   "execution_count": 106,
   "id": "93d97fd3-f77c-464c-a3dd-65e7b6c78199",
   "metadata": {},
   "outputs": [
    {
     "data": {
      "image/png": "[encoded data removed]",
      "text/plain": [
       "<Figure size 1000x800 with 1 Axes>"
      ]
     },
     "metadata": {},
     "output_type": "display_data"
    }
   ],
   "source": [
    "corr = original_df.corrwith(original_df['status_label'], method='spearman').sort_values(ascending=False)\n",
    "\n",
    "plt.figure(figsize=(10, 8))\n",
    "sns.barplot(x=corr.values, y=corr.index, palette='coolwarm')\n",
    "\n",
    "# This here annotates each bar with its correlation value\n",
    "for i, v in enumerate(corr.values):\n",
    "    plt.text(v, i, f\"{v:.3f}\", color='black', va='center')\n",
    "\n",
    "plt.xlabel('Spearman Correlation Coefficient')\n",
    "plt.ylabel('Features')\n",
    "plt.title('Spearman Correlation Based On Status Label')\n",
    "plt.show()"
   ]
  },
  {
   "cell_type": "code",
   "execution_count": 107,
   "id": "e1c3306a-3502-462a-864b-513ebb341928",
   "metadata": {},
   "outputs": [
    {
     "data": {
      "text/html": [
       "<div>\n",
       "<style scoped>\n",
       "    .dataframe tbody tr th:only-of-type {\n",
       "        vertical-align: middle;\n",
       "    }\n",
       "\n",
       "    .dataframe tbody tr th {\n",
       "        vertical-align: top;\n",
       "    }\n",
       "\n",
       "    .dataframe thead th {\n",
       "        text-align: right;\n",
       "    }\n",
       "</style>\n",
       "<table border=\"1\" class=\"dataframe\">\n",
       "  <thead>\n",
       "    <tr style=\"text-align: right;\">\n",
       "      <th></th>\n",
       "      <th>status_label</th>\n",
       "      <th>year</th>\n",
       "      <th>X1</th>\n",
       "      <th>X2</th>\n",
       "      <th>X3</th>\n",
       "      <th>X4</th>\n",
       "      <th>X5</th>\n",
       "      <th>X6</th>\n",
       "      <th>X7</th>\n",
       "      <th>X8</th>\n",
       "      <th>X9</th>\n",
       "      <th>X10</th>\n",
       "      <th>X11</th>\n",
       "      <th>X12</th>\n",
       "      <th>X13</th>\n",
       "      <th>X14</th>\n",
       "      <th>X15</th>\n",
       "      <th>X16</th>\n",
       "      <th>X17</th>\n",
       "      <th>X18</th>\n",
       "    </tr>\n",
       "  </thead>\n",
       "  <tbody>\n",
       "    <tr>\n",
       "      <th>status_label</th>\n",
       "      <td>1.000000</td>\n",
       "      <td>0.079905</td>\n",
       "      <td>0.040897</td>\n",
       "      <td>0.010125</td>\n",
       "      <td>-0.002195</td>\n",
       "      <td>0.053183</td>\n",
       "      <td>0.012868</td>\n",
       "      <td>0.111625</td>\n",
       "      <td>0.041119</td>\n",
       "      <td>0.069889</td>\n",
       "      <td>0.022209</td>\n",
       "      <td>0.016645</td>\n",
       "      <td>-0.033794</td>\n",
       "      <td>0.079592</td>\n",
       "      <td>0.039990</td>\n",
       "      <td>0.007285</td>\n",
       "      <td>0.088634</td>\n",
       "      <td>0.022209</td>\n",
       "      <td>-0.011264</td>\n",
       "      <td>0.017398</td>\n",
       "    </tr>\n",
       "    <tr>\n",
       "      <th>year</th>\n",
       "      <td>0.079905</td>\n",
       "      <td>1.000000</td>\n",
       "      <td>0.145821</td>\n",
       "      <td>0.112568</td>\n",
       "      <td>0.101254</td>\n",
       "      <td>0.109592</td>\n",
       "      <td>0.058718</td>\n",
       "      <td>0.080545</td>\n",
       "      <td>0.106854</td>\n",
       "      <td>0.177425</td>\n",
       "      <td>0.119190</td>\n",
       "      <td>0.145604</td>\n",
       "      <td>0.084471</td>\n",
       "      <td>0.099786</td>\n",
       "      <td>0.130112</td>\n",
       "      <td>0.141093</td>\n",
       "      <td>-0.003163</td>\n",
       "      <td>0.119190</td>\n",
       "      <td>0.147196</td>\n",
       "      <td>0.128189</td>\n",
       "    </tr>\n",
       "    <tr>\n",
       "      <th>X1</th>\n",
       "      <td>0.040897</td>\n",
       "      <td>0.145821</td>\n",
       "      <td>1.000000</td>\n",
       "      <td>0.900667</td>\n",
       "      <td>0.887007</td>\n",
       "      <td>0.753038</td>\n",
       "      <td>0.656953</td>\n",
       "      <td>0.492247</td>\n",
       "      <td>0.898713</td>\n",
       "      <td>0.888003</td>\n",
       "      <td>0.923246</td>\n",
       "      <td>0.959776</td>\n",
       "      <td>0.636717</td>\n",
       "      <td>0.661171</td>\n",
       "      <td>0.884686</td>\n",
       "      <td>0.931990</td>\n",
       "      <td>0.431128</td>\n",
       "      <td>0.923246</td>\n",
       "      <td>0.905944</td>\n",
       "      <td>0.939060</td>\n",
       "    </tr>\n",
       "    <tr>\n",
       "      <th>X2</th>\n",
       "      <td>0.010125</td>\n",
       "      <td>0.112568</td>\n",
       "      <td>0.900667</td>\n",
       "      <td>1.000000</td>\n",
       "      <td>0.884771</td>\n",
       "      <td>0.788463</td>\n",
       "      <td>0.692319</td>\n",
       "      <td>0.506352</td>\n",
       "      <td>0.881963</td>\n",
       "      <td>0.771508</td>\n",
       "      <td>0.966225</td>\n",
       "      <td>0.910617</td>\n",
       "      <td>0.694021</td>\n",
       "      <td>0.697961</td>\n",
       "      <td>0.862028</td>\n",
       "      <td>0.920428</td>\n",
       "      <td>0.474847</td>\n",
       "      <td>0.966225</td>\n",
       "      <td>0.906944</td>\n",
       "      <td>0.977995</td>\n",
       "    </tr>\n",
       "    <tr>\n",
       "      <th>X3</th>\n",
       "      <td>-0.002195</td>\n",
       "      <td>0.101254</td>\n",
       "      <td>0.887007</td>\n",
       "      <td>0.884771</td>\n",
       "      <td>1.000000</td>\n",
       "      <td>0.785600</td>\n",
       "      <td>0.593776</td>\n",
       "      <td>0.448601</td>\n",
       "      <td>0.860419</td>\n",
       "      <td>0.822855</td>\n",
       "      <td>0.917691</td>\n",
       "      <td>0.948960</td>\n",
       "      <td>0.734207</td>\n",
       "      <td>0.650193</td>\n",
       "      <td>0.886748</td>\n",
       "      <td>0.916855</td>\n",
       "      <td>0.402731</td>\n",
       "      <td>0.917691</td>\n",
       "      <td>0.931712</td>\n",
       "      <td>0.912714</td>\n",
       "    </tr>\n",
       "    <tr>\n",
       "      <th>X4</th>\n",
       "      <td>0.053183</td>\n",
       "      <td>0.109592</td>\n",
       "      <td>0.753038</td>\n",
       "      <td>0.788463</td>\n",
       "      <td>0.785600</td>\n",
       "      <td>1.000000</td>\n",
       "      <td>0.583718</td>\n",
       "      <td>0.746604</td>\n",
       "      <td>0.790786</td>\n",
       "      <td>0.724691</td>\n",
       "      <td>0.852238</td>\n",
       "      <td>0.802506</td>\n",
       "      <td>0.637993</td>\n",
       "      <td>0.941066</td>\n",
       "      <td>0.883694</td>\n",
       "      <td>0.773716</td>\n",
       "      <td>0.608419</td>\n",
       "      <td>0.852238</td>\n",
       "      <td>0.780055</td>\n",
       "      <td>0.787262</td>\n",
       "    </tr>\n",
       "    <tr>\n",
       "      <th>X5</th>\n",
       "      <td>0.012868</td>\n",
       "      <td>0.058718</td>\n",
       "      <td>0.656953</td>\n",
       "      <td>0.692319</td>\n",
       "      <td>0.593776</td>\n",
       "      <td>0.583718</td>\n",
       "      <td>1.000000</td>\n",
       "      <td>0.415036</td>\n",
       "      <td>0.618280</td>\n",
       "      <td>0.513546</td>\n",
       "      <td>0.692992</td>\n",
       "      <td>0.619446</td>\n",
       "      <td>0.495927</td>\n",
       "      <td>0.537230</td>\n",
       "      <td>0.651828</td>\n",
       "      <td>0.626304</td>\n",
       "      <td>0.445812</td>\n",
       "      <td>0.692992</td>\n",
       "      <td>0.605429</td>\n",
       "      <td>0.689768</td>\n",
       "    </tr>\n",
       "    <tr>\n",
       "      <th>X6</th>\n",
       "      <td>0.111625</td>\n",
       "      <td>0.080545</td>\n",
       "      <td>0.492247</td>\n",
       "      <td>0.506352</td>\n",
       "      <td>0.448601</td>\n",
       "      <td>0.746604</td>\n",
       "      <td>0.415036</td>\n",
       "      <td>1.000000</td>\n",
       "      <td>0.518358</td>\n",
       "      <td>0.538957</td>\n",
       "      <td>0.563817</td>\n",
       "      <td>0.500947</td>\n",
       "      <td>0.345275</td>\n",
       "      <td>0.821636</td>\n",
       "      <td>0.607786</td>\n",
       "      <td>0.472737</td>\n",
       "      <td>0.660649</td>\n",
       "      <td>0.563817</td>\n",
       "      <td>0.455031</td>\n",
       "      <td>0.499669</td>\n",
       "    </tr>\n",
       "    <tr>\n",
       "      <th>X7</th>\n",
       "      <td>0.041119</td>\n",
       "      <td>0.106854</td>\n",
       "      <td>0.898713</td>\n",
       "      <td>0.881963</td>\n",
       "      <td>0.860419</td>\n",
       "      <td>0.790786</td>\n",
       "      <td>0.618280</td>\n",
       "      <td>0.518358</td>\n",
       "      <td>1.000000</td>\n",
       "      <td>0.786608</td>\n",
       "      <td>0.920353</td>\n",
       "      <td>0.898535</td>\n",
       "      <td>0.664429</td>\n",
       "      <td>0.702990</td>\n",
       "      <td>0.883246</td>\n",
       "      <td>0.899796</td>\n",
       "      <td>0.465273</td>\n",
       "      <td>0.920353</td>\n",
       "      <td>0.880365</td>\n",
       "      <td>0.905252</td>\n",
       "    </tr>\n",
       "    <tr>\n",
       "      <th>X8</th>\n",
       "      <td>0.069889</td>\n",
       "      <td>0.177425</td>\n",
       "      <td>0.888003</td>\n",
       "      <td>0.771508</td>\n",
       "      <td>0.822855</td>\n",
       "      <td>0.724691</td>\n",
       "      <td>0.513546</td>\n",
       "      <td>0.538957</td>\n",
       "      <td>0.786608</td>\n",
       "      <td>1.000000</td>\n",
       "      <td>0.812050</td>\n",
       "      <td>0.891572</td>\n",
       "      <td>0.577302</td>\n",
       "      <td>0.655680</td>\n",
       "      <td>0.817070</td>\n",
       "      <td>0.825709</td>\n",
       "      <td>0.429184</td>\n",
       "      <td>0.812050</td>\n",
       "      <td>0.815634</td>\n",
       "      <td>0.820901</td>\n",
       "    </tr>\n",
       "    <tr>\n",
       "      <th>X9</th>\n",
       "      <td>0.022209</td>\n",
       "      <td>0.119190</td>\n",
       "      <td>0.923246</td>\n",
       "      <td>0.966225</td>\n",
       "      <td>0.917691</td>\n",
       "      <td>0.852238</td>\n",
       "      <td>0.692992</td>\n",
       "      <td>0.563817</td>\n",
       "      <td>0.920353</td>\n",
       "      <td>0.812050</td>\n",
       "      <td>1.000000</td>\n",
       "      <td>0.937011</td>\n",
       "      <td>0.695078</td>\n",
       "      <td>0.758854</td>\n",
       "      <td>0.949763</td>\n",
       "      <td>0.944482</td>\n",
       "      <td>0.503055</td>\n",
       "      <td>1.000000</td>\n",
       "      <td>0.925977</td>\n",
       "      <td>0.984331</td>\n",
       "    </tr>\n",
       "    <tr>\n",
       "      <th>X10</th>\n",
       "      <td>0.016645</td>\n",
       "      <td>0.145604</td>\n",
       "      <td>0.959776</td>\n",
       "      <td>0.910617</td>\n",
       "      <td>0.948960</td>\n",
       "      <td>0.802506</td>\n",
       "      <td>0.619446</td>\n",
       "      <td>0.500947</td>\n",
       "      <td>0.898535</td>\n",
       "      <td>0.891572</td>\n",
       "      <td>0.937011</td>\n",
       "      <td>1.000000</td>\n",
       "      <td>0.731338</td>\n",
       "      <td>0.694210</td>\n",
       "      <td>0.900059</td>\n",
       "      <td>0.947953</td>\n",
       "      <td>0.437639</td>\n",
       "      <td>0.937011</td>\n",
       "      <td>0.960302</td>\n",
       "      <td>0.939785</td>\n",
       "    </tr>\n",
       "    <tr>\n",
       "      <th>X11</th>\n",
       "      <td>-0.033794</td>\n",
       "      <td>0.084471</td>\n",
       "      <td>0.636717</td>\n",
       "      <td>0.694021</td>\n",
       "      <td>0.734207</td>\n",
       "      <td>0.637993</td>\n",
       "      <td>0.495927</td>\n",
       "      <td>0.345275</td>\n",
       "      <td>0.664429</td>\n",
       "      <td>0.577302</td>\n",
       "      <td>0.695078</td>\n",
       "      <td>0.731338</td>\n",
       "      <td>1.000000</td>\n",
       "      <td>0.552117</td>\n",
       "      <td>0.650265</td>\n",
       "      <td>0.702632</td>\n",
       "      <td>0.289009</td>\n",
       "      <td>0.695078</td>\n",
       "      <td>0.804126</td>\n",
       "      <td>0.688895</td>\n",
       "    </tr>\n",
       "    <tr>\n",
       "      <th>X12</th>\n",
       "      <td>0.079592</td>\n",
       "      <td>0.099786</td>\n",
       "      <td>0.661171</td>\n",
       "      <td>0.697961</td>\n",
       "      <td>0.650193</td>\n",
       "      <td>0.941066</td>\n",
       "      <td>0.537230</td>\n",
       "      <td>0.821636</td>\n",
       "      <td>0.702990</td>\n",
       "      <td>0.655680</td>\n",
       "      <td>0.758854</td>\n",
       "      <td>0.694210</td>\n",
       "      <td>0.552117</td>\n",
       "      <td>1.000000</td>\n",
       "      <td>0.796856</td>\n",
       "      <td>0.669693</td>\n",
       "      <td>0.636497</td>\n",
       "      <td>0.758854</td>\n",
       "      <td>0.670086</td>\n",
       "      <td>0.691385</td>\n",
       "    </tr>\n",
       "    <tr>\n",
       "      <th>X13</th>\n",
       "      <td>0.039990</td>\n",
       "      <td>0.130112</td>\n",
       "      <td>0.884686</td>\n",
       "      <td>0.862028</td>\n",
       "      <td>0.886748</td>\n",
       "      <td>0.883694</td>\n",
       "      <td>0.651828</td>\n",
       "      <td>0.607786</td>\n",
       "      <td>0.883246</td>\n",
       "      <td>0.817070</td>\n",
       "      <td>0.949763</td>\n",
       "      <td>0.900059</td>\n",
       "      <td>0.650265</td>\n",
       "      <td>0.796856</td>\n",
       "      <td>1.000000</td>\n",
       "      <td>0.896153</td>\n",
       "      <td>0.512000</td>\n",
       "      <td>0.949763</td>\n",
       "      <td>0.875843</td>\n",
       "      <td>0.914513</td>\n",
       "    </tr>\n",
       "    <tr>\n",
       "      <th>X14</th>\n",
       "      <td>0.007285</td>\n",
       "      <td>0.141093</td>\n",
       "      <td>0.931990</td>\n",
       "      <td>0.920428</td>\n",
       "      <td>0.916855</td>\n",
       "      <td>0.773716</td>\n",
       "      <td>0.626304</td>\n",
       "      <td>0.472737</td>\n",
       "      <td>0.899796</td>\n",
       "      <td>0.825709</td>\n",
       "      <td>0.944482</td>\n",
       "      <td>0.947953</td>\n",
       "      <td>0.702632</td>\n",
       "      <td>0.669693</td>\n",
       "      <td>0.896153</td>\n",
       "      <td>1.000000</td>\n",
       "      <td>0.405927</td>\n",
       "      <td>0.944482</td>\n",
       "      <td>0.968604</td>\n",
       "      <td>0.951635</td>\n",
       "    </tr>\n",
       "    <tr>\n",
       "      <th>X15</th>\n",
       "      <td>0.088634</td>\n",
       "      <td>-0.003163</td>\n",
       "      <td>0.431128</td>\n",
       "      <td>0.474847</td>\n",
       "      <td>0.402731</td>\n",
       "      <td>0.608419</td>\n",
       "      <td>0.445812</td>\n",
       "      <td>0.660649</td>\n",
       "      <td>0.465273</td>\n",
       "      <td>0.429184</td>\n",
       "      <td>0.503055</td>\n",
       "      <td>0.437639</td>\n",
       "      <td>0.289009</td>\n",
       "      <td>0.636497</td>\n",
       "      <td>0.512000</td>\n",
       "      <td>0.405927</td>\n",
       "      <td>1.000000</td>\n",
       "      <td>0.503055</td>\n",
       "      <td>0.380986</td>\n",
       "      <td>0.456021</td>\n",
       "    </tr>\n",
       "    <tr>\n",
       "      <th>X16</th>\n",
       "      <td>0.022209</td>\n",
       "      <td>0.119190</td>\n",
       "      <td>0.923246</td>\n",
       "      <td>0.966225</td>\n",
       "      <td>0.917691</td>\n",
       "      <td>0.852238</td>\n",
       "      <td>0.692992</td>\n",
       "      <td>0.563817</td>\n",
       "      <td>0.920353</td>\n",
       "      <td>0.812050</td>\n",
       "      <td>1.000000</td>\n",
       "      <td>0.937011</td>\n",
       "      <td>0.695078</td>\n",
       "      <td>0.758854</td>\n",
       "      <td>0.949763</td>\n",
       "      <td>0.944482</td>\n",
       "      <td>0.503055</td>\n",
       "      <td>1.000000</td>\n",
       "      <td>0.925977</td>\n",
       "      <td>0.984331</td>\n",
       "    </tr>\n",
       "    <tr>\n",
       "      <th>X17</th>\n",
       "      <td>-0.011264</td>\n",
       "      <td>0.147196</td>\n",
       "      <td>0.905944</td>\n",
       "      <td>0.906944</td>\n",
       "      <td>0.931712</td>\n",
       "      <td>0.780055</td>\n",
       "      <td>0.605429</td>\n",
       "      <td>0.455031</td>\n",
       "      <td>0.880365</td>\n",
       "      <td>0.815634</td>\n",
       "      <td>0.925977</td>\n",
       "      <td>0.960302</td>\n",
       "      <td>0.804126</td>\n",
       "      <td>0.670086</td>\n",
       "      <td>0.875843</td>\n",
       "      <td>0.968604</td>\n",
       "      <td>0.380986</td>\n",
       "      <td>0.925977</td>\n",
       "      <td>1.000000</td>\n",
       "      <td>0.929690</td>\n",
       "    </tr>\n",
       "    <tr>\n",
       "      <th>X18</th>\n",
       "      <td>0.017398</td>\n",
       "      <td>0.128189</td>\n",
       "      <td>0.939060</td>\n",
       "      <td>0.977995</td>\n",
       "      <td>0.912714</td>\n",
       "      <td>0.787262</td>\n",
       "      <td>0.689768</td>\n",
       "      <td>0.499669</td>\n",
       "      <td>0.905252</td>\n",
       "      <td>0.820901</td>\n",
       "      <td>0.984331</td>\n",
       "      <td>0.939785</td>\n",
       "      <td>0.688895</td>\n",
       "      <td>0.691385</td>\n",
       "      <td>0.914513</td>\n",
       "      <td>0.951635</td>\n",
       "      <td>0.456021</td>\n",
       "      <td>0.984331</td>\n",
       "      <td>0.929690</td>\n",
       "      <td>1.000000</td>\n",
       "    </tr>\n",
       "  </tbody>\n",
       "</table>\n",
       "</div>"
      ],
      "text/plain": [
       "              status_label      year        X1        X2        X3        X4  \\\n",
       "status_label      1.000000  0.079905  0.040897  0.010125 -0.002195  0.053183   \n",
       "year              0.079905  1.000000  0.145821  0.112568  0.101254  0.109592   \n",
       "X1                0.040897  0.145821  1.000000  0.900667  0.887007  0.753038   \n",
       "X2                0.010125  0.112568  0.900667  1.000000  0.884771  0.788463   \n",
       "X3               -0.002195  0.101254  0.887007  0.884771  1.000000  0.785600   \n",
       "X4                0.053183  0.109592  0.753038  0.788463  0.785600  1.000000   \n",
       "X5                0.012868  0.058718  0.656953  0.692319  0.593776  0.583718   \n",
       "X6                0.111625  0.080545  0.492247  0.506352  0.448601  0.746604   \n",
       "X7                0.041119  0.106854  0.898713  0.881963  0.860419  0.790786   \n",
       "X8                0.069889  0.177425  0.888003  0.771508  0.822855  0.724691   \n",
       "X9                0.022209  0.119190  0.923246  0.966225  0.917691  0.852238   \n",
       "X10               0.016645  0.145604  0.959776  0.910617  0.948960  0.802506   \n",
       "X11              -0.033794  0.084471  0.636717  0.694021  0.734207  0.637993   \n",
       "X12               0.079592  0.099786  0.661171  0.697961  0.650193  0.941066   \n",
       "X13               0.039990  0.130112  0.884686  0.862028  0.886748  0.883694   \n",
       "X14               0.007285  0.141093  0.931990  0.920428  0.916855  0.773716   \n",
       "X15               0.088634 -0.003163  0.431128  0.474847  0.402731  0.608419   \n",
       "X16               0.022209  0.119190  0.923246  0.966225  0.917691  0.852238   \n",
       "X17              -0.011264  0.147196  0.905944  0.906944  0.931712  0.780055   \n",
       "X18               0.017398  0.128189  0.939060  0.977995  0.912714  0.787262   \n",
       "\n",
       "                    X5        X6        X7        X8        X9       X10  \\\n",
       "status_label  0.012868  0.111625  0.041119  0.069889  0.022209  0.016645   \n",
       "year          0.058718  0.080545  0.106854  0.177425  0.119190  0.145604   \n",
       "X1            0.656953  0.492247  0.898713  0.888003  0.923246  0.959776   \n",
       "X2            0.692319  0.506352  0.881963  0.771508  0.966225  0.910617   \n",
       "X3            0.593776  0.448601  0.860419  0.822855  0.917691  0.948960   \n",
       "X4            0.583718  0.746604  0.790786  0.724691  0.852238  0.802506   \n",
       "X5            1.000000  0.415036  0.618280  0.513546  0.692992  0.619446   \n",
       "X6            0.415036  1.000000  0.518358  0.538957  0.563817  0.500947   \n",
       "X7            0.618280  0.518358  1.000000  0.786608  0.920353  0.898535   \n",
       "X8            0.513546  0.538957  0.786608  1.000000  0.812050  0.891572   \n",
       "X9            0.692992  0.563817  0.920353  0.812050  1.000000  0.937011   \n",
       "X10           0.619446  0.500947  0.898535  0.891572  0.937011  1.000000   \n",
       "X11           0.495927  0.345275  0.664429  0.577302  0.695078  0.731338   \n",
       "X12           0.537230  0.821636  0.702990  0.655680  0.758854  0.694210   \n",
       "X13           0.651828  0.607786  0.883246  0.817070  0.949763  0.900059   \n",
       "X14           0.626304  0.472737  0.899796  0.825709  0.944482  0.947953   \n",
       "X15           0.445812  0.660649  0.465273  0.429184  0.503055  0.437639   \n",
       "X16           0.692992  0.563817  0.920353  0.812050  1.000000  0.937011   \n",
       "X17           0.605429  0.455031  0.880365  0.815634  0.925977  0.960302   \n",
       "X18           0.689768  0.499669  0.905252  0.820901  0.984331  0.939785   \n",
       "\n",
       "                   X11       X12       X13       X14       X15       X16  \\\n",
       "status_label -0.033794  0.079592  0.039990  0.007285  0.088634  0.022209   \n",
       "year          0.084471  0.099786  0.130112  0.141093 -0.003163  0.119190   \n",
       "X1            0.636717  0.661171  0.884686  0.931990  0.431128  0.923246   \n",
       "X2            0.694021  0.697961  0.862028  0.920428  0.474847  0.966225   \n",
       "X3            0.734207  0.650193  0.886748  0.916855  0.402731  0.917691   \n",
       "X4            0.637993  0.941066  0.883694  0.773716  0.608419  0.852238   \n",
       "X5            0.495927  0.537230  0.651828  0.626304  0.445812  0.692992   \n",
       "X6            0.345275  0.821636  0.607786  0.472737  0.660649  0.563817   \n",
       "X7            0.664429  0.702990  0.883246  0.899796  0.465273  0.920353   \n",
       "X8            0.577302  0.655680  0.817070  0.825709  0.429184  0.812050   \n",
       "X9            0.695078  0.758854  0.949763  0.944482  0.503055  1.000000   \n",
       "X10           0.731338  0.694210  0.900059  0.947953  0.437639  0.937011   \n",
       "X11           1.000000  0.552117  0.650265  0.702632  0.289009  0.695078   \n",
       "X12           0.552117  1.000000  0.796856  0.669693  0.636497  0.758854   \n",
       "X13           0.650265  0.796856  1.000000  0.896153  0.512000  0.949763   \n",
       "X14           0.702632  0.669693  0.896153  1.000000  0.405927  0.944482   \n",
       "X15           0.289009  0.636497  0.512000  0.405927  1.000000  0.503055   \n",
       "X16           0.695078  0.758854  0.949763  0.944482  0.503055  1.000000   \n",
       "X17           0.804126  0.670086  0.875843  0.968604  0.380986  0.925977   \n",
       "X18           0.688895  0.691385  0.914513  0.951635  0.456021  0.984331   \n",
       "\n",
       "                   X17       X18  \n",
       "status_label -0.011264  0.017398  \n",
       "year          0.147196  0.128189  \n",
       "X1            0.905944  0.939060  \n",
       "X2            0.906944  0.977995  \n",
       "X3            0.931712  0.912714  \n",
       "X4            0.780055  0.787262  \n",
       "X5            0.605429  0.689768  \n",
       "X6            0.455031  0.499669  \n",
       "X7            0.880365  0.905252  \n",
       "X8            0.815634  0.820901  \n",
       "X9            0.925977  0.984331  \n",
       "X10           0.960302  0.939785  \n",
       "X11           0.804126  0.688895  \n",
       "X12           0.670086  0.691385  \n",
       "X13           0.875843  0.914513  \n",
       "X14           0.968604  0.951635  \n",
       "X15           0.380986  0.456021  \n",
       "X16           0.925977  0.984331  \n",
       "X17           1.000000  0.929690  \n",
       "X18           0.929690  1.000000  "
      ]
     },
     "execution_count": 107,
     "metadata": {},
     "output_type": "execute_result"
    }
   ],
   "source": [
    "original_df.corr(method = 'spearman')"
   ]
  },
  {
   "cell_type": "code",
   "execution_count": 108,
   "id": "c362fee1-73ee-4968-8fdc-207f12116128",
   "metadata": {},
   "outputs": [],
   "source": [
    "original_df = original_df.drop(['X14','X3','X12','X16'], axis=1)"
   ]
  },
  {
   "cell_type": "code",
   "execution_count": 109,
   "id": "8e9fc407-a729-471f-8fc0-b2f0d56e1c7d",
   "metadata": {},
   "outputs": [
    {
     "name": "stdout",
     "output_type": "stream",
     "text": [
      "<class 'pandas.core.frame.DataFrame'>\n",
      "RangeIndex: 78682 entries, 0 to 78681\n",
      "Data columns (total 16 columns):\n",
      " #   Column        Non-Null Count  Dtype  \n",
      "---  ------        --------------  -----  \n",
      " 0   status_label  78682 non-null  int64  \n",
      " 1   year          78682 non-null  int64  \n",
      " 2   X1            78682 non-null  float64\n",
      " 3   X2            78682 non-null  float64\n",
      " 4   X4            78682 non-null  float64\n",
      " 5   X5            78682 non-null  float64\n",
      " 6   X6            78682 non-null  float64\n",
      " 7   X7            78682 non-null  float64\n",
      " 8   X8            78682 non-null  float64\n",
      " 9   X9            78682 non-null  float64\n",
      " 10  X10           78682 non-null  float64\n",
      " 11  X11           78682 non-null  float64\n",
      " 12  X13           78682 non-null  float64\n",
      " 13  X15           78682 non-null  float64\n",
      " 14  X17           78682 non-null  float64\n",
      " 15  X18           78682 non-null  float64\n",
      "dtypes: float64(14), int64(2)\n",
      "memory usage: 9.6 MB\n"
     ]
    }
   ],
   "source": [
    "original_df.info()"
   ]
  },
  {
   "cell_type": "code",
   "execution_count": 110,
   "id": "215bf954-90b2-4814-872a-742efc822832",
   "metadata": {},
   "outputs": [],
   "source": [
    "X = original_df.drop(columns=['status_label'])  \n",
    "y = original_df['status_label']  "
   ]
  },
  {
   "cell_type": "markdown",
   "id": "63e248f3-fbea-4753-a7ec-1d8b7a81ec65",
   "metadata": {
    "jp-MarkdownHeadingCollapsed": true
   },
   "source": [
    "### UNSAMPLED DATA"
   ]
  },
  {
   "cell_type": "code",
   "execution_count": 111,
   "id": "0eb9e8a2-23c0-462d-b314-5b035b46a297",
   "metadata": {},
   "outputs": [],
   "source": [
    "unsampled_X_train, unsampled_X_test, unsampled_y_train, unsampled_y_test = train_test_split(X, y, test_size=0.3, random_state=42)"
   ]
  },
  {
   "cell_type": "markdown",
   "id": "8baca91b-791e-4e91-80f2-d43cb7d4cdb9",
   "metadata": {},
   "source": [
    "### UNSAMPLED XGBOOST"
   ]
  },
  {
   "cell_type": "code",
   "execution_count": 112,
   "id": "77335f84-2296-4a12-80bc-e0d3e6f4641b",
   "metadata": {},
   "outputs": [
    {
     "name": "stdout",
     "output_type": "stream",
     "text": [
      "              precision    recall  f1-score   support\n",
      "\n",
      "           0       0.83      0.10      0.17      1614\n",
      "           1       0.94      1.00      0.97     21991\n",
      "\n",
      "    accuracy                           0.94     23605\n",
      "   macro avg       0.88      0.55      0.57     23605\n",
      "weighted avg       0.93      0.94      0.91     23605\n",
      "\n"
     ]
    }
   ],
   "source": [
    "unsampled_xgboost_model = xgb.XGBClassifier(n_estimators = 100,\n",
    "                                            max_depth = 10,\n",
    "                                            learning_rate = 0.1,\n",
    "                                            random_state = 42)\n",
    "unsampled_xgboost_model.fit(unsampled_X_train, unsampled_y_train)\n",
    "y_pred = unsampled_xgboost_model.predict(unsampled_X_test)\n",
    "accuracy = accuracy_score(unsampled_y_test, y_pred)\n",
    "print(classification_report(unsampled_y_test, y_pred))"
   ]
  },
  {
   "cell_type": "markdown",
   "id": "7ad1c888-05d1-42eb-988f-e8b5b995bcc9",
   "metadata": {},
   "source": [
    "## UNSAMPLED RANDOM FOREST"
   ]
  },
  {
   "cell_type": "code",
   "execution_count": 113,
   "id": "70477dfb-e928-49aa-884b-b20910fb4536",
   "metadata": {},
   "outputs": [
    {
     "name": "stdout",
     "output_type": "stream",
     "text": [
      "              precision    recall  f1-score   support\n",
      "\n",
      "           0       0.94      0.01      0.02      1614\n",
      "           1       0.93      1.00      0.96     21991\n",
      "\n",
      "    accuracy                           0.93     23605\n",
      "   macro avg       0.93      0.50      0.49     23605\n",
      "weighted avg       0.93      0.93      0.90     23605\n",
      "\n"
     ]
    }
   ],
   "source": [
    "unsampled_rf_model = RandomForestClassifier(n_estimators = 50,\n",
    "                                            max_depth = 10,\n",
    "                                            random_state = 42)\n",
    "unsampled_rf_model.fit(unsampled_X_train, unsampled_y_train)\n",
    "y_pred = unsampled_rf_model.predict(unsampled_X_test)\n",
    "accuracy = accuracy_score(unsampled_y_test, y_pred)\n",
    "print(classification_report(unsampled_y_test, y_pred))"
   ]
  },
  {
   "cell_type": "markdown",
   "id": "e772716b-750f-4ed8-b1cd-989fa430e451",
   "metadata": {},
   "source": [
    "# UNSAMPLED LSTM MODEL"
   ]
  },
  {
   "cell_type": "code",
   "execution_count": 114,
   "id": "7a5c0d17-2501-43bf-b005-ed950d81ab79",
   "metadata": {},
   "outputs": [],
   "source": [
    "unsampled_X_train_array = unsampled_X_train.to_numpy()\n",
    "reshaped_X_train = unsampled_X_train_array.reshape((unsampled_X_train_array.shape[0], unsampled_X_train_array.shape[1], 1))"
   ]
  },
  {
   "cell_type": "code",
   "execution_count": 115,
   "id": "a27527ce-2d35-4366-b0fc-41d70974a638",
   "metadata": {},
   "outputs": [
    {
     "name": "stdout",
     "output_type": "stream",
     "text": [
      "Epoch 1/5\n",
      "\u001b[1m1722/1722\u001b[0m \u001b[32m━━━━━━━━━━━━━━━━━━━━\u001b[0m\u001b[37m\u001b[0m \u001b[1m4019s\u001b[0m 2s/step - accuracy: 0.9297 - loss: 0.2513\n",
      "Epoch 2/5\n",
      "\u001b[1m1722/1722\u001b[0m \u001b[32m━━━━━━━━━━━━━━━━━━━━\u001b[0m\u001b[37m\u001b[0m \u001b[1m1263s\u001b[0m 734ms/step - accuracy: 0.9340 - loss: 0.2383\n",
      "Epoch 3/5\n",
      "\u001b[1m1722/1722\u001b[0m \u001b[32m━━━━━━━━━━━━━━━━━━━━\u001b[0m\u001b[37m\u001b[0m \u001b[1m1381s\u001b[0m 802ms/step - accuracy: 0.9342 - loss: 0.2350\n",
      "Epoch 4/5\n",
      "\u001b[1m1722/1722\u001b[0m \u001b[32m━━━━━━━━━━━━━━━━━━━━\u001b[0m\u001b[37m\u001b[0m \u001b[1m254s\u001b[0m 147ms/step - accuracy: 0.9346 - loss: 0.2327\n",
      "Epoch 5/5\n",
      "\u001b[1m1722/1722\u001b[0m \u001b[32m━━━━━━━━━━━━━━━━━━━━\u001b[0m\u001b[37m\u001b[0m \u001b[1m3239s\u001b[0m 2s/step - accuracy: 0.9334 - loss: 0.2340\n",
      "\u001b[1m738/738\u001b[0m \u001b[32m━━━━━━━━━━━━━━━━━━━━\u001b[0m\u001b[37m\u001b[0m \u001b[1m1114s\u001b[0m 2s/step\n",
      "              precision    recall  f1-score   support\n",
      "\n",
      "           0       0.00      0.00      0.00      1614\n",
      "           1       0.93      1.00      0.96     21991\n",
      "\n",
      "    accuracy                           0.93     23605\n",
      "   macro avg       0.47      0.50      0.48     23605\n",
      "weighted avg       0.87      0.93      0.90     23605\n",
      "\n"
     ]
    }
   ],
   "source": [
    "unsampled_lstm_model = Sequential()\n",
    "unsampled_lstm_model.add(LSTM(units=70, input_shape=(reshaped_X_train.shape[1], 1), return_sequences=True))\n",
    "unsampled_lstm_model.add(Dropout(0.2))\n",
    "unsampled_lstm_model.add(LSTM(units=70, return_sequences=True))\n",
    "unsampled_lstm_model.add(Dropout(0.2))\n",
    "unsampled_lstm_model.add(LSTM(units=70))\n",
    "unsampled_lstm_model.add(Dropout(0.2))\n",
    "unsampled_lstm_model.add(Dense(32, activation='relu'))\n",
    "unsampled_lstm_model.add(Dense(1, activation='sigmoid'))\n",
    "\n",
    "unsampled_lstm_model.compile(loss='binary_crossentropy', optimizer='Adam', metrics=['accuracy'])\n",
    "unsampled_lstm_model.fit(reshaped_X_train, unsampled_y_train, epochs=5, batch_size=32, verbose=1)\n",
    "predictions = unsampled_lstm_model.predict(unsampled_X_test)\n",
    "predicted_labels = (predictions > 0.5).astype(int)\n",
    "report = classification_report(unsampled_y_test, predicted_labels)\n",
    "print(report)\n"
   ]
  },
  {
   "cell_type": "markdown",
   "id": "b61bfc56-c53d-4d5d-bb54-27dea62c76a4",
   "metadata": {
    "jp-MarkdownHeadingCollapsed": true
   },
   "source": [
    "# UNSAMPLED CNN MODEL"
   ]
  },
  {
   "cell_type": "code",
   "execution_count": 116,
   "id": "3cfc1891-33f5-4a21-823a-9851069c218a",
   "metadata": {},
   "outputs": [
    {
     "name": "stdout",
     "output_type": "stream",
     "text": [
      "Epoch 1/5\n",
      "\u001b[1m1722/1722\u001b[0m \u001b[32m━━━━━━━━━━━━━━━━━━━━\u001b[0m\u001b[37m\u001b[0m \u001b[1m4s\u001b[0m 2ms/step - accuracy: 0.8719 - loss: 12.5588\n",
      "Epoch 2/5\n",
      "\u001b[1m1722/1722\u001b[0m \u001b[32m━━━━━━━━━━━━━━━━━━━━\u001b[0m\u001b[37m\u001b[0m \u001b[1m43s\u001b[0m 25ms/step - accuracy: 0.9112 - loss: 2.0384\n",
      "Epoch 3/5\n",
      "\u001b[1m1722/1722\u001b[0m \u001b[32m━━━━━━━━━━━━━━━━━━━━\u001b[0m\u001b[37m\u001b[0m \u001b[1m51s\u001b[0m 29ms/step - accuracy: 0.9180 - loss: 0.7211\n",
      "Epoch 4/5\n",
      "\u001b[1m1722/1722\u001b[0m \u001b[32m━━━━━━━━━━━━━━━━━━━━\u001b[0m\u001b[37m\u001b[0m \u001b[1m27s\u001b[0m 15ms/step - accuracy: 0.9269 - loss: 0.4424\n",
      "Epoch 5/5\n",
      "\u001b[1m1722/1722\u001b[0m \u001b[32m━━━━━━━━━━━━━━━━━━━━\u001b[0m\u001b[37m\u001b[0m \u001b[1m10s\u001b[0m 6ms/step - accuracy: 0.9303 - loss: 0.3089\n",
      "\u001b[1m738/738\u001b[0m \u001b[32m━━━━━━━━━━━━━━━━━━━━\u001b[0m\u001b[37m\u001b[0m \u001b[1m3s\u001b[0m 3ms/step\n",
      "              precision    recall  f1-score   support\n",
      "\n",
      "           0       0.50      0.01      0.02      1614\n",
      "           1       0.93      1.00      0.96     21991\n",
      "\n",
      "    accuracy                           0.93     23605\n",
      "   macro avg       0.72      0.51      0.49     23605\n",
      "weighted avg       0.90      0.93      0.90     23605\n",
      "\n"
     ]
    }
   ],
   "source": [
    "unsampled_X_train_array = unsampled_X_train.to_numpy()\n",
    "reshaped_X_train = unsampled_X_train_array.reshape((unsampled_X_train_array.shape[0], unsampled_X_train_array.shape[1], 1))\n",
    "unsampled_cnn_model = Sequential()\n",
    "unsampled_cnn_model.add(Conv1D(filters=32, kernel_size=3, activation='relu', input_shape=(unsampled_X_train_array.shape[1], 1)))\n",
    "unsampled_cnn_model.add(MaxPooling1D(pool_size=2))\n",
    "unsampled_cnn_model.add(Flatten())\n",
    "unsampled_cnn_model.add(Dense(64, activation='relu'))\n",
    "unsampled_cnn_model.add(Dense(1, activation='sigmoid'))  # Output layer for binary classification\n",
    "\n",
    "unsampled_cnn_model.compile(loss='binary_crossentropy', optimizer='adam', metrics=['accuracy'])\n",
    "unsampled_cnn_model.fit(reshaped_X_train, unsampled_y_train, epochs=5, batch_size=32, verbose=1)\n",
    "predictions = unsampled_cnn_model.predict(unsampled_X_test)\n",
    "predicted_labels = (predictions > 0.5).astype(int)\n",
    "report = classification_report(unsampled_y_test, predicted_labels)\n",
    "print(report)"
   ]
  },
  {
   "cell_type": "markdown",
   "id": "5d38203d-a4f6-4afb-a3c3-4974ac692e01",
   "metadata": {},
   "source": [
    "## SMOTE"
   ]
  },
  {
   "cell_type": "code",
   "execution_count": 117,
   "id": "f688c77b-7273-4e3a-a63b-345c4bae66a3",
   "metadata": {},
   "outputs": [],
   "source": [
    "oversample = SMOTE()\n",
    "smote_X, smote_y = oversample.fit_resample(X, y)"
   ]
  },
  {
   "cell_type": "code",
   "execution_count": 118,
   "id": "59e5f1e2-b485-44f2-83d4-266f862974b8",
   "metadata": {},
   "outputs": [
    {
     "name": "stdout",
     "output_type": "stream",
     "text": [
      "Oversampled Training data:  (146924, 15)\n",
      "Oversampled Testing data:  (146924,)\n"
     ]
    }
   ],
   "source": [
    "print('Oversampled Training data: ', smote_X.shape)\n",
    "print('Oversampled Testing data: ', smote_y.shape)"
   ]
  },
  {
   "cell_type": "markdown",
   "id": "6d36f0e8-27f5-44f0-a93f-23cfb7201d36",
   "metadata": {},
   "source": [
    "There are equal number of bankrupt and alive companies"
   ]
  },
  {
   "cell_type": "code",
   "execution_count": 119,
   "id": "04b9b0c0-695c-424f-8e86-107f5967d67b",
   "metadata": {},
   "outputs": [],
   "source": [
    "smote_X_train, smote_X_test, smote_y_train, smote_y_test = train_test_split(smote_X, smote_y, test_size=0.2, random_state=42)"
   ]
  },
  {
   "cell_type": "markdown",
   "id": "dabfe79f-bd0b-4a44-8f96-93c3c48568f4",
   "metadata": {},
   "source": [
    "## SMOTE-XGBOOST MODEL"
   ]
  },
  {
   "cell_type": "code",
   "execution_count": 120,
   "id": "43054de7-f1bd-4864-b427-a900a43e0625",
   "metadata": {},
   "outputs": [
    {
     "name": "stdout",
     "output_type": "stream",
     "text": [
      "              precision    recall  f1-score   support\n",
      "\n",
      "           0       0.87      0.94      0.90     14797\n",
      "           1       0.94      0.86      0.89     14588\n",
      "\n",
      "    accuracy                           0.90     29385\n",
      "   macro avg       0.90      0.90      0.90     29385\n",
      "weighted avg       0.90      0.90      0.90     29385\n",
      "\n"
     ]
    }
   ],
   "source": [
    "smote_xgboost_model = xgb.XGBClassifier(n_estimators = 100, \n",
    "                                        max_depth = 10,\n",
    "                                        learning_rate = 0.1,\n",
    "                                        random_state = 42)\n",
    "smote_xgboost_model.fit(smote_X_train, smote_y_train)\n",
    "y_pred = smote_xgboost_model.predict(smote_X_test)\n",
    "accuracy = accuracy_score(smote_y_test, y_pred)\n",
    "print(classification_report(smote_y_test, y_pred))"
   ]
  },
  {
   "cell_type": "markdown",
   "id": "2ad2d37d-4bcf-42b1-a6ff-ded818fdbddb",
   "metadata": {},
   "source": [
    "## SMOTE-RANDOM FOREST MODEL"
   ]
  },
  {
   "cell_type": "code",
   "execution_count": 121,
   "id": "44165eae-b9d6-4cb2-8e9a-1d5da9f41905",
   "metadata": {},
   "outputs": [
    {
     "name": "stdout",
     "output_type": "stream",
     "text": [
      "              precision    recall  f1-score   support\n",
      "\n",
      "           0       0.77      0.88      0.82     14797\n",
      "           1       0.86      0.74      0.79     14588\n",
      "\n",
      "    accuracy                           0.81     29385\n",
      "   macro avg       0.82      0.81      0.81     29385\n",
      "weighted avg       0.82      0.81      0.81     29385\n",
      "\n"
     ]
    }
   ],
   "source": [
    "smote_rf_model = RandomForestClassifier(n_estimators = 50, \n",
    "                                        max_depth = 10,\n",
    "                                        random_state = 42)\n",
    "smote_rf_model.fit(smote_X_train, smote_y_train)\n",
    "y_pred = smote_rf_model.predict(smote_X_test)\n",
    "accuracy = accuracy_score(smote_y_test, y_pred)\n",
    "print(classification_report(smote_y_test, y_pred))"
   ]
  },
  {
   "cell_type": "markdown",
   "id": "4ed6b7d4-ee9b-49c7-8e5d-f13b79c65189",
   "metadata": {
    "jp-MarkdownHeadingCollapsed": true
   },
   "source": [
    "# SMOTE-LSTM MODEL"
   ]
  },
  {
   "cell_type": "code",
   "execution_count": 122,
   "id": "092c014f-4abf-4795-a29d-6599da7d56a3",
   "metadata": {},
   "outputs": [],
   "source": [
    "smote_X_train_array = smote_X_train.to_numpy()\n",
    "reshaped_X_train = smote_X_train_array.reshape((smote_X_train_array.shape[0], smote_X_train_array.shape[1], 1))"
   ]
  },
  {
   "cell_type": "code",
   "execution_count": 123,
   "id": "495bebc9-d0fb-4ec2-afa8-e7ffcaf42e59",
   "metadata": {},
   "outputs": [
    {
     "name": "stdout",
     "output_type": "stream",
     "text": [
      "Epoch 1/30\n",
      "\u001b[1m3674/3674\u001b[0m \u001b[32m━━━━━━━━━━━━━━━━━━━━\u001b[0m\u001b[37m\u001b[0m \u001b[1m4709s\u001b[0m 1s/step - accuracy: 0.6153 - loss: 0.6522\n",
      "Epoch 2/30\n",
      "\u001b[1m2978/3674\u001b[0m \u001b[32m━━━━━━━━━━━━━━━━\u001b[0m\u001b[37m━━━━\u001b[0m \u001b[1m2:04\u001b[0m 179ms/step - accuracy: 0.6811 - loss: 0.6003"
     ]
    },
    {
     "name": "stderr",
     "output_type": "stream",
     "text": [
      "IOPub message rate exceeded.\n",
      "The Jupyter server will temporarily stop sending output\n",
      "to the client in order to avoid crashing it.\n",
      "To change this limit, set the config variable\n",
      "`--ServerApp.iopub_msg_rate_limit`.\n",
      "\n",
      "Current values:\n",
      "ServerApp.iopub_msg_rate_limit=1000.0 (msgs/sec)\n",
      "ServerApp.rate_limit_window=3.0 (secs)\n",
      "\n"
     ]
    },
    {
     "name": "stdout",
     "output_type": "stream",
     "text": [
      "\u001b[1m3674/3674\u001b[0m \u001b[32m━━━━━━━━━━━━━━━━━━━━\u001b[0m\u001b[37m\u001b[0m \u001b[1m2338s\u001b[0m 636ms/step - accuracy: 0.7149 - loss: 0.5623\n",
      "Epoch 4/30\n",
      "\u001b[1m3674/3674\u001b[0m \u001b[32m━━━━━━━━━━━━━━━━━━━━\u001b[0m\u001b[37m\u001b[0m \u001b[1m2068s\u001b[0m 563ms/step - accuracy: 0.7312 - loss: 0.5379\n",
      "Epoch 5/30\n",
      "\u001b[1m3674/3674\u001b[0m \u001b[32m━━━━━━━━━━━━━━━━━━━━\u001b[0m\u001b[37m\u001b[0m \u001b[1m396s\u001b[0m 108ms/step - accuracy: 0.7473 - loss: 0.5122\n",
      "Epoch 6/30\n",
      "\u001b[1m3674/3674\u001b[0m \u001b[32m━━━━━━━━━━━━━━━━━━━━\u001b[0m\u001b[37m\u001b[0m \u001b[1m126s\u001b[0m 34ms/step - accuracy: 0.7634 - loss: 0.4897\n",
      "Epoch 7/30\n",
      "\u001b[1m3674/3674\u001b[0m \u001b[32m━━━━━━━━━━━━━━━━━━━━\u001b[0m\u001b[37m\u001b[0m \u001b[1m106s\u001b[0m 29ms/step - accuracy: 0.7755 - loss: 0.4691\n",
      "Epoch 8/30\n",
      "\u001b[1m3674/3674\u001b[0m \u001b[32m━━━━━━━━━━━━━━━━━━━━\u001b[0m\u001b[37m\u001b[0m \u001b[1m106s\u001b[0m 29ms/step - accuracy: 0.7879 - loss: 0.4505\n",
      "Epoch 9/30\n",
      "\u001b[1m3674/3674\u001b[0m \u001b[32m━━━━━━━━━━━━━━━━━━━━\u001b[0m\u001b[37m\u001b[0m \u001b[1m106s\u001b[0m 29ms/step - accuracy: 0.7993 - loss: 0.4298\n",
      "Epoch 10/30\n",
      "\u001b[1m3674/3674\u001b[0m \u001b[32m━━━━━━━━━━━━━━━━━━━━\u001b[0m\u001b[37m\u001b[0m \u001b[1m107s\u001b[0m 29ms/step - accuracy: 0.8109 - loss: 0.4134\n",
      "Epoch 11/30\n",
      "\u001b[1m3674/3674\u001b[0m \u001b[32m━━━━━━━━━━━━━━━━━━━━\u001b[0m\u001b[37m\u001b[0m \u001b[1m106s\u001b[0m 29ms/step - accuracy: 0.8151 - loss: 0.4041\n",
      "Epoch 12/30\n",
      "\u001b[1m3674/3674\u001b[0m \u001b[32m━━━━━━━━━━━━━━━━━━━━\u001b[0m\u001b[37m\u001b[0m \u001b[1m106s\u001b[0m 29ms/step - accuracy: 0.8240 - loss: 0.3876\n",
      "Epoch 13/30\n",
      "\u001b[1m3674/3674\u001b[0m \u001b[32m━━━━━━━━━━━━━━━━━━━━\u001b[0m\u001b[37m\u001b[0m \u001b[1m106s\u001b[0m 29ms/step - accuracy: 0.8302 - loss: 0.3764\n",
      "Epoch 14/30\n",
      "\u001b[1m3674/3674\u001b[0m \u001b[32m━━━━━━━━━━━━━━━━━━━━\u001b[0m\u001b[37m\u001b[0m \u001b[1m106s\u001b[0m 29ms/step - accuracy: 0.8352 - loss: 0.3661\n",
      "Epoch 15/30\n",
      "\u001b[1m3674/3674\u001b[0m \u001b[32m━━━━━━━━━━━━━━━━━━━━\u001b[0m\u001b[37m\u001b[0m \u001b[1m106s\u001b[0m 29ms/step - accuracy: 0.8396 - loss: 0.3590\n",
      "Epoch 16/30\n",
      "\u001b[1m3674/3674\u001b[0m \u001b[32m━━━━━━━━━━━━━━━━━━━━\u001b[0m\u001b[37m\u001b[0m \u001b[1m106s\u001b[0m 29ms/step - accuracy: 0.8471 - loss: 0.3446\n",
      "Epoch 17/30\n",
      "\u001b[1m3674/3674\u001b[0m \u001b[32m━━━━━━━━━━━━━━━━━━━━\u001b[0m\u001b[37m\u001b[0m \u001b[1m106s\u001b[0m 29ms/step - accuracy: 0.8485 - loss: 0.3427\n",
      "Epoch 18/30\n",
      "\u001b[1m3674/3674\u001b[0m \u001b[32m━━━━━━━━━━━━━━━━━━━━\u001b[0m\u001b[37m\u001b[0m \u001b[1m106s\u001b[0m 29ms/step - accuracy: 0.8552 - loss: 0.3314\n",
      "Epoch 19/30\n",
      "\u001b[1m3674/3674\u001b[0m \u001b[32m━━━━━━━━━━━━━━━━━━━━\u001b[0m\u001b[37m\u001b[0m \u001b[1m106s\u001b[0m 29ms/step - accuracy: 0.8581 - loss: 0.3244\n",
      "Epoch 20/30\n",
      "\u001b[1m3674/3674\u001b[0m \u001b[32m━━━━━━━━━━━━━━━━━━━━\u001b[0m\u001b[37m\u001b[0m \u001b[1m106s\u001b[0m 29ms/step - accuracy: 0.8593 - loss: 0.3216\n",
      "Epoch 21/30\n",
      "\u001b[1m3674/3674\u001b[0m \u001b[32m━━━━━━━━━━━━━━━━━━━━\u001b[0m\u001b[37m\u001b[0m \u001b[1m106s\u001b[0m 29ms/step - accuracy: 0.8656 - loss: 0.3124\n",
      "Epoch 22/30\n",
      "\u001b[1m3674/3674\u001b[0m \u001b[32m━━━━━━━━━━━━━━━━━━━━\u001b[0m\u001b[37m\u001b[0m \u001b[1m106s\u001b[0m 29ms/step - accuracy: 0.8701 - loss: 0.3016\n",
      "Epoch 23/30\n",
      "\u001b[1m3674/3674\u001b[0m \u001b[32m━━━━━━━━━━━━━━━━━━━━\u001b[0m\u001b[37m\u001b[0m \u001b[1m107s\u001b[0m 29ms/step - accuracy: 0.8699 - loss: 0.3015\n",
      "Epoch 24/30\n",
      "\u001b[1m3674/3674\u001b[0m \u001b[32m━━━━━━━━━━━━━━━━━━━━\u001b[0m\u001b[37m\u001b[0m \u001b[1m107s\u001b[0m 29ms/step - accuracy: 0.8740 - loss: 0.2937\n",
      "Epoch 25/30\n",
      "\u001b[1m3674/3674\u001b[0m \u001b[32m━━━━━━━━━━━━━━━━━━━━\u001b[0m\u001b[37m\u001b[0m \u001b[1m107s\u001b[0m 29ms/step - accuracy: 0.8731 - loss: 0.2942\n",
      "Epoch 26/30\n",
      "\u001b[1m3674/3674\u001b[0m \u001b[32m━━━━━━━━━━━━━━━━━━━━\u001b[0m\u001b[37m\u001b[0m \u001b[1m107s\u001b[0m 29ms/step - accuracy: 0.8729 - loss: 0.2935\n",
      "Epoch 27/30\n",
      "\u001b[1m3674/3674\u001b[0m \u001b[32m━━━━━━━━━━━━━━━━━━━━\u001b[0m\u001b[37m\u001b[0m \u001b[1m107s\u001b[0m 29ms/step - accuracy: 0.8776 - loss: 0.2848\n",
      "Epoch 28/30\n",
      "\u001b[1m3674/3674\u001b[0m \u001b[32m━━━━━━━━━━━━━━━━━━━━\u001b[0m\u001b[37m\u001b[0m \u001b[1m107s\u001b[0m 29ms/step - accuracy: 0.8816 - loss: 0.2799\n",
      "Epoch 29/30\n",
      "\u001b[1m3674/3674\u001b[0m \u001b[32m━━━━━━━━━━━━━━━━━━━━\u001b[0m\u001b[37m\u001b[0m \u001b[1m107s\u001b[0m 29ms/step - accuracy: 0.8794 - loss: 0.2834\n",
      "Epoch 30/30\n",
      "\u001b[1m3674/3674\u001b[0m \u001b[32m━━━━━━━━━━━━━━━━━━━━\u001b[0m\u001b[37m\u001b[0m \u001b[1m107s\u001b[0m 29ms/step - accuracy: 0.8839 - loss: 0.2740\n",
      "\u001b[1m919/919\u001b[0m \u001b[32m━━━━━━━━━━━━━━━━━━━━\u001b[0m\u001b[37m\u001b[0m \u001b[1m10s\u001b[0m 10ms/step\n",
      "              precision    recall  f1-score   support\n",
      "\n",
      "           0       0.85      0.92      0.88     14797\n",
      "           1       0.91      0.83      0.87     14588\n",
      "\n",
      "    accuracy                           0.87     29385\n",
      "   macro avg       0.88      0.87      0.87     29385\n",
      "weighted avg       0.88      0.87      0.87     29385\n",
      "\n"
     ]
    }
   ],
   "source": [
    "smote_lstm_model = Sequential()\n",
    "smote_lstm_model.add(LSTM(units=70, input_shape=(reshaped_X_train.shape[1], 1), return_sequences=True))\n",
    "smote_lstm_model.add(Dropout(0.2))\n",
    "smote_lstm_model.add(LSTM(units=70, return_sequences=True))\n",
    "smote_lstm_model.add(Dropout(0.2))\n",
    "smote_lstm_model.add(LSTM(units=70))\n",
    "smote_lstm_model.add(Dropout(0.2))\n",
    "smote_lstm_model.add(Dense(32, activation='relu'))\n",
    "smote_lstm_model.add(Dense(1, activation='sigmoid'))\n",
    "\n",
    "smote_lstm_model.compile(loss='binary_crossentropy', optimizer='Adam', metrics=['accuracy'])\n",
    "smote_lstm_model.fit(reshaped_X_train, smote_y_train, epochs=30, batch_size=32, verbose=1)\n",
    "predictions = smote_lstm_model.predict(smote_X_test)\n",
    "predicted_labels = (predictions > 0.5).astype(int)\n",
    "report = classification_report(smote_y_test, predicted_labels)\n",
    "print(report)\n"
   ]
  },
  {
   "cell_type": "markdown",
   "id": "2840092f-7046-4953-a13a-1e514e755fb9",
   "metadata": {},
   "source": [
    "# SMOTE CNN MODEL"
   ]
  },
  {
   "cell_type": "code",
   "execution_count": 124,
   "id": "d2bbf21b-20a4-4462-a5f3-d567c825c0f6",
   "metadata": {},
   "outputs": [
    {
     "name": "stdout",
     "output_type": "stream",
     "text": [
      "Epoch 1/10\n",
      "\u001b[1m3674/3674\u001b[0m \u001b[32m━━━━━━━━━━━━━━━━━━━━\u001b[0m\u001b[37m\u001b[0m \u001b[1m7s\u001b[0m 2ms/step - accuracy: 0.5771 - loss: 16.4133\n",
      "Epoch 2/10\n",
      "\u001b[1m3674/3674\u001b[0m \u001b[32m━━━━━━━━━━━━━━━━━━━━\u001b[0m\u001b[37m\u001b[0m \u001b[1m6s\u001b[0m 2ms/step - accuracy: 0.6113 - loss: 1.6509\n",
      "Epoch 3/10\n",
      "\u001b[1m3674/3674\u001b[0m \u001b[32m━━━━━━━━━━━━━━━━━━━━\u001b[0m\u001b[37m\u001b[0m \u001b[1m6s\u001b[0m 2ms/step - accuracy: 0.6474 - loss: 0.7558\n",
      "Epoch 4/10\n",
      "\u001b[1m3674/3674\u001b[0m \u001b[32m━━━━━━━━━━━━━━━━━━━━\u001b[0m\u001b[37m\u001b[0m \u001b[1m6s\u001b[0m 2ms/step - accuracy: 0.6660 - loss: 0.6236\n",
      "Epoch 5/10\n",
      "\u001b[1m3674/3674\u001b[0m \u001b[32m━━━━━━━━━━━━━━━━━━━━\u001b[0m\u001b[37m\u001b[0m \u001b[1m6s\u001b[0m 2ms/step - accuracy: 0.6691 - loss: 0.6111\n",
      "Epoch 6/10\n",
      "\u001b[1m3674/3674\u001b[0m \u001b[32m━━━━━━━━━━━━━━━━━━━━\u001b[0m\u001b[37m\u001b[0m \u001b[1m6s\u001b[0m 2ms/step - accuracy: 0.6707 - loss: 0.6029\n",
      "Epoch 7/10\n",
      "\u001b[1m3674/3674\u001b[0m \u001b[32m━━━━━━━━━━━━━━━━━━━━\u001b[0m\u001b[37m\u001b[0m \u001b[1m6s\u001b[0m 2ms/step - accuracy: 0.6771 - loss: 0.6000\n",
      "Epoch 8/10\n",
      "\u001b[1m3674/3674\u001b[0m \u001b[32m━━━━━━━━━━━━━━━━━━━━\u001b[0m\u001b[37m\u001b[0m \u001b[1m6s\u001b[0m 2ms/step - accuracy: 0.6825 - loss: 0.5864\n",
      "Epoch 9/10\n",
      "\u001b[1m3674/3674\u001b[0m \u001b[32m━━━━━━━━━━━━━━━━━━━━\u001b[0m\u001b[37m\u001b[0m \u001b[1m6s\u001b[0m 2ms/step - accuracy: 0.6862 - loss: 0.5810\n",
      "Epoch 10/10\n",
      "\u001b[1m3674/3674\u001b[0m \u001b[32m━━━━━━━━━━━━━━━━━━━━\u001b[0m\u001b[37m\u001b[0m \u001b[1m6s\u001b[0m 2ms/step - accuracy: 0.6857 - loss: 0.5818\n",
      "\u001b[1m919/919\u001b[0m \u001b[32m━━━━━━━━━━━━━━━━━━━━\u001b[0m\u001b[37m\u001b[0m \u001b[1m1s\u001b[0m 1ms/step\n",
      "              precision    recall  f1-score   support\n",
      "\n",
      "           0       0.68      0.74      0.71     14797\n",
      "           1       0.71      0.64      0.67     14588\n",
      "\n",
      "    accuracy                           0.69     29385\n",
      "   macro avg       0.69      0.69      0.69     29385\n",
      "weighted avg       0.69      0.69      0.69     29385\n",
      "\n"
     ]
    }
   ],
   "source": [
    "smote_cnn_model = Sequential()\n",
    "smote_cnn_model.add(Conv1D(filters=32, kernel_size=3, activation='relu', input_shape=(smote_X_train_array.shape[1], 1)))\n",
    "smote_cnn_model.add(MaxPooling1D(pool_size=2))\n",
    "smote_cnn_model.add(Flatten())\n",
    "smote_cnn_model.add(Dense(64, activation='relu'))\n",
    "smote_cnn_model.add(Dense(1, activation='sigmoid'))  # Output layer for binary classification\n",
    "\n",
    "smote_cnn_model.compile(loss='binary_crossentropy', optimizer='adam', metrics=['accuracy'])\n",
    "smote_cnn_model.fit(reshaped_X_train, smote_y_train, epochs=10, batch_size=32, verbose=1)\n",
    "predictions = smote_cnn_model.predict(smote_X_test)\n",
    "predicted_labels = (predictions > 0.5).astype(int)\n",
    "report = classification_report(smote_y_test, predicted_labels)\n",
    "print(report)"
   ]
  },
  {
   "cell_type": "markdown",
   "id": "16072983-b17b-4272-a9eb-b79a81eec340",
   "metadata": {},
   "source": [
    "## Random Oversampling"
   ]
  },
  {
   "cell_type": "code",
   "execution_count": 125,
   "id": "d15ce313-1da0-4dd4-b97f-731ecfc8b72b",
   "metadata": {},
   "outputs": [],
   "source": [
    "ros_oversample = RandomOverSampler()\n",
    "ros_X, ros_y = ros_oversample.fit_resample(X, y)"
   ]
  },
  {
   "cell_type": "code",
   "execution_count": 126,
   "id": "35de9a7d-ff08-4684-a131-7d13fdd2b767",
   "metadata": {},
   "outputs": [
    {
     "name": "stdout",
     "output_type": "stream",
     "text": [
      "Random Oversampled Training data:  (146924, 15)\n",
      "Random Oversampled Testing data:  (146924,)\n"
     ]
    }
   ],
   "source": [
    "print('Random Oversampled Training data: ', ros_X.shape)\n",
    "print('Random Oversampled Testing data: ', ros_y.shape)"
   ]
  },
  {
   "cell_type": "code",
   "execution_count": 127,
   "id": "fa2a295b-7fbc-4e6e-8e13-2dda8a6ed54c",
   "metadata": {},
   "outputs": [],
   "source": [
    "ros_X_train, ros_X_test, ros_y_train, ros_y_test = train_test_split(ros_X, ros_y, test_size=0.3, random_state=42)"
   ]
  },
  {
   "cell_type": "markdown",
   "id": "a8f84a64-4332-4fa5-a9ff-3ac887533072",
   "metadata": {},
   "source": [
    "## ROS - XGBOOST"
   ]
  },
  {
   "cell_type": "code",
   "execution_count": 128,
   "id": "541a219c-82f5-4e0a-8e38-3e91cbdac953",
   "metadata": {},
   "outputs": [
    {
     "name": "stdout",
     "output_type": "stream",
     "text": [
      "Accuracy: 0.8875856436317437\n",
      "Classification Report:\n",
      "              precision    recall  f1-score   support\n",
      "\n",
      "           0       0.85      0.94      0.89     22125\n",
      "           1       0.94      0.83      0.88     21953\n",
      "\n",
      "    accuracy                           0.89     44078\n",
      "   macro avg       0.89      0.89      0.89     44078\n",
      "weighted avg       0.89      0.89      0.89     44078\n",
      "\n"
     ]
    }
   ],
   "source": [
    "ros_xgboost_model = xgb.XGBClassifier(n_estimators = 100,\n",
    "                                      max_depth = 8,\n",
    "                                      learning_rate = 0.1,\n",
    "                                      random_state = 42)\n",
    "ros_xgboost_model.fit(ros_X_train, ros_y_train)\n",
    "y_pred = ros_xgboost_model.predict(ros_X_test)\n",
    "accuracy = accuracy_score(ros_y_test, y_pred)\n",
    "print(\"Accuracy:\", accuracy)\n",
    "print(\"Classification Report:\")\n",
    "print(classification_report(ros_y_test, y_pred))"
   ]
  },
  {
   "cell_type": "markdown",
   "id": "37661314-8e34-4f68-930e-18841470d5e0",
   "metadata": {},
   "source": [
    "## ROS - Random Forest"
   ]
  },
  {
   "cell_type": "code",
   "execution_count": 129,
   "id": "ae8c57d9-c124-4e8a-844c-637fd3d0f2c4",
   "metadata": {},
   "outputs": [
    {
     "name": "stdout",
     "output_type": "stream",
     "text": [
      "              precision    recall  f1-score   support\n",
      "\n",
      "           0       0.79      0.87      0.83     22125\n",
      "           1       0.85      0.77      0.81     21953\n",
      "\n",
      "    accuracy                           0.82     44078\n",
      "   macro avg       0.82      0.82      0.82     44078\n",
      "weighted avg       0.82      0.82      0.82     44078\n",
      "\n"
     ]
    }
   ],
   "source": [
    "ros_rf_model = RandomForestClassifier(n_estimators = 50, \n",
    "                                      max_depth=10,\n",
    "                                      random_state = 42)\n",
    "ros_rf_model.fit(ros_X_train, ros_y_train)\n",
    "y_pred = ros_rf_model.predict(ros_X_test)\n",
    "accuracy = accuracy_score(ros_y_test, y_pred)\n",
    "print(classification_report(ros_y_test, y_pred))\n"
   ]
  },
  {
   "cell_type": "markdown",
   "id": "5ff8553e-a665-4ffe-8333-084f27a2be2a",
   "metadata": {},
   "source": [
    "## ROS-LSTM Model"
   ]
  },
  {
   "cell_type": "code",
   "execution_count": 130,
   "id": "ef8b28d7-8088-42a7-94df-d23a4cc4607b",
   "metadata": {},
   "outputs": [],
   "source": [
    "ros_X_train_array = ros_X_train.to_numpy()\n",
    "reshaped_X_train = ros_X_train_array.reshape((ros_X_train_array.shape[0], ros_X_train_array.shape[1], 1))"
   ]
  },
  {
   "cell_type": "code",
   "execution_count": 131,
   "id": "db993ce0-4667-4384-af42-64f8c5c3d580",
   "metadata": {
    "scrolled": true
   },
   "outputs": [
    {
     "name": "stdout",
     "output_type": "stream",
     "text": [
      "Epoch 1/30\n",
      "\u001b[1m3214/3214\u001b[0m \u001b[32m━━━━━━━━━━━━━━━━━━━━\u001b[0m\u001b[37m\u001b[0m \u001b[1m98s\u001b[0m 29ms/step - accuracy: 0.6033 - loss: 0.6617\n",
      "Epoch 2/30\n",
      "\u001b[1m3214/3214\u001b[0m \u001b[32m━━━━━━━━━━━━━━━━━━━━\u001b[0m\u001b[37m\u001b[0m \u001b[1m94s\u001b[0m 29ms/step - accuracy: 0.6571 - loss: 0.6222\n",
      "Epoch 3/30\n",
      "\u001b[1m3214/3214\u001b[0m \u001b[32m━━━━━━━━━━━━━━━━━━━━\u001b[0m\u001b[37m\u001b[0m \u001b[1m2029s\u001b[0m 631ms/step - accuracy: 0.6845 - loss: 0.5958\n",
      "Epoch 4/30\n",
      "\u001b[1m3214/3214\u001b[0m \u001b[32m━━━━━━━━━━━━━━━━━━━━\u001b[0m\u001b[37m\u001b[0m \u001b[1m2890s\u001b[0m 899ms/step - accuracy: 0.7055 - loss: 0.5659\n",
      "Epoch 5/30\n",
      "\u001b[1m3214/3214\u001b[0m \u001b[32m━━━━━━━━━━━━━━━━━━━━\u001b[0m\u001b[37m\u001b[0m \u001b[1m383s\u001b[0m 119ms/step - accuracy: 0.7246 - loss: 0.5418\n",
      "Epoch 6/30\n",
      "\u001b[1m3214/3214\u001b[0m \u001b[32m━━━━━━━━━━━━━━━━━━━━\u001b[0m\u001b[37m\u001b[0m \u001b[1m6061s\u001b[0m 2s/step - accuracy: 0.7460 - loss: 0.5151\n",
      "Epoch 7/30\n",
      "\u001b[1m3214/3214\u001b[0m \u001b[32m━━━━━━━━━━━━━━━━━━━━\u001b[0m\u001b[37m\u001b[0m \u001b[1m1543s\u001b[0m 480ms/step - accuracy: 0.7625 - loss: 0.4873\n",
      "Epoch 8/30\n",
      "\u001b[1m3214/3214\u001b[0m \u001b[32m━━━━━━━━━━━━━━━━━━━━\u001b[0m\u001b[37m\u001b[0m \u001b[1m425s\u001b[0m 132ms/step - accuracy: 0.7775 - loss: 0.4618\n",
      "Epoch 9/30\n",
      "\u001b[1m3214/3214\u001b[0m \u001b[32m━━━━━━━━━━━━━━━━━━━━\u001b[0m\u001b[37m\u001b[0m \u001b[1m380s\u001b[0m 118ms/step - accuracy: 0.7887 - loss: 0.4435\n",
      "Epoch 10/30\n",
      "\u001b[1m3214/3214\u001b[0m \u001b[32m━━━━━━━━━━━━━━━━━━━━\u001b[0m\u001b[37m\u001b[0m \u001b[1m1099s\u001b[0m 342ms/step - accuracy: 0.8021 - loss: 0.4242\n",
      "Epoch 11/30\n",
      "\u001b[1m3214/3214\u001b[0m \u001b[32m━━━━━━━━━━━━━━━━━━━━\u001b[0m\u001b[37m\u001b[0m \u001b[1m100s\u001b[0m 31ms/step - accuracy: 0.8132 - loss: 0.4065\n",
      "Epoch 12/30\n",
      "\u001b[1m3214/3214\u001b[0m \u001b[32m━━━━━━━━━━━━━━━━━━━━\u001b[0m\u001b[37m\u001b[0m \u001b[1m100s\u001b[0m 31ms/step - accuracy: 0.8242 - loss: 0.3889\n",
      "Epoch 13/30\n",
      "\u001b[1m3214/3214\u001b[0m \u001b[32m━━━━━━━━━━━━━━━━━━━━\u001b[0m\u001b[37m\u001b[0m \u001b[1m99s\u001b[0m 31ms/step - accuracy: 0.8323 - loss: 0.3722\n",
      "Epoch 14/30\n",
      "\u001b[1m3214/3214\u001b[0m \u001b[32m━━━━━━━━━━━━━━━━━━━━\u001b[0m\u001b[37m\u001b[0m \u001b[1m100s\u001b[0m 31ms/step - accuracy: 0.8383 - loss: 0.3579\n",
      "Epoch 15/30\n",
      "\u001b[1m3214/3214\u001b[0m \u001b[32m━━━━━━━━━━━━━━━━━━━━\u001b[0m\u001b[37m\u001b[0m \u001b[1m2855s\u001b[0m 889ms/step - accuracy: 0.8461 - loss: 0.3458\n",
      "Epoch 16/30\n",
      "\u001b[1m3214/3214\u001b[0m \u001b[32m━━━━━━━━━━━━━━━━━━━━\u001b[0m\u001b[37m\u001b[0m \u001b[1m1517s\u001b[0m 472ms/step - accuracy: 0.8506 - loss: 0.3386\n",
      "Epoch 17/30\n",
      "\u001b[1m3214/3214\u001b[0m \u001b[32m━━━━━━━━━━━━━━━━━━━━\u001b[0m\u001b[37m\u001b[0m \u001b[1m382s\u001b[0m 119ms/step - accuracy: 0.8561 - loss: 0.3254\n",
      "Epoch 18/30\n",
      "\u001b[1m3214/3214\u001b[0m \u001b[32m━━━━━━━━━━━━━━━━━━━━\u001b[0m\u001b[37m\u001b[0m \u001b[1m3555s\u001b[0m 1s/step - accuracy: 0.8620 - loss: 0.3177\n",
      "Epoch 19/30\n",
      "\u001b[1m3214/3214\u001b[0m \u001b[32m━━━━━━━━━━━━━━━━━━━━\u001b[0m\u001b[37m\u001b[0m \u001b[1m2538s\u001b[0m 790ms/step - accuracy: 0.8661 - loss: 0.3068\n",
      "Epoch 20/30\n",
      "\u001b[1m3214/3214\u001b[0m \u001b[32m━━━━━━━━━━━━━━━━━━━━\u001b[0m\u001b[37m\u001b[0m \u001b[1m105s\u001b[0m 33ms/step - accuracy: 0.8716 - loss: 0.2980\n",
      "Epoch 21/30\n",
      "\u001b[1m2699/3214\u001b[0m \u001b[32m━━━━━━━━━━━━━━━━\u001b[0m\u001b[37m━━━━\u001b[0m \u001b[1m16s\u001b[0m 32ms/step - accuracy: 0.8718 - loss: 0.2950"
     ]
    },
    {
     "name": "stderr",
     "output_type": "stream",
     "text": [
      "IOPub message rate exceeded.\n",
      "The Jupyter server will temporarily stop sending output\n",
      "to the client in order to avoid crashing it.\n",
      "To change this limit, set the config variable\n",
      "`--ServerApp.iopub_msg_rate_limit`.\n",
      "\n",
      "Current values:\n",
      "ServerApp.iopub_msg_rate_limit=1000.0 (msgs/sec)\n",
      "ServerApp.rate_limit_window=3.0 (secs)\n",
      "\n"
     ]
    },
    {
     "name": "stdout",
     "output_type": "stream",
     "text": [
      "\u001b[1m3214/3214\u001b[0m \u001b[32m━━━━━━━━━━━━━━━━━━━━\u001b[0m\u001b[37m\u001b[0m \u001b[1m99s\u001b[0m 31ms/step - accuracy: 0.8847 - loss: 0.2702\n",
      "Epoch 27/30\n",
      "\u001b[1m3214/3214\u001b[0m \u001b[32m━━━━━━━━━━━━━━━━━━━━\u001b[0m\u001b[37m\u001b[0m \u001b[1m98s\u001b[0m 30ms/step - accuracy: 0.8885 - loss: 0.2619\n",
      "Epoch 28/30\n",
      "\u001b[1m3214/3214\u001b[0m \u001b[32m━━━━━━━━━━━━━━━━━━━━\u001b[0m\u001b[37m\u001b[0m \u001b[1m99s\u001b[0m 31ms/step - accuracy: 0.8927 - loss: 0.2568\n",
      "Epoch 29/30\n",
      "\u001b[1m3214/3214\u001b[0m \u001b[32m━━━━━━━━━━━━━━━━━━━━\u001b[0m\u001b[37m\u001b[0m \u001b[1m98s\u001b[0m 31ms/step - accuracy: 0.8922 - loss: 0.2545\n",
      "Epoch 30/30\n",
      "\u001b[1m3214/3214\u001b[0m \u001b[32m━━━━━━━━━━━━━━━━━━━━\u001b[0m\u001b[37m\u001b[0m \u001b[1m98s\u001b[0m 30ms/step - accuracy: 0.8960 - loss: 0.2481\n",
      "\u001b[1m1378/1378\u001b[0m \u001b[32m━━━━━━━━━━━━━━━━━━━━\u001b[0m\u001b[37m\u001b[0m \u001b[1m15s\u001b[0m 11ms/step\n",
      "              precision    recall  f1-score   support\n",
      "\n",
      "           0       0.85      0.95      0.90     22125\n",
      "           1       0.95      0.84      0.89     21953\n",
      "\n",
      "    accuracy                           0.89     44078\n",
      "   macro avg       0.90      0.89      0.89     44078\n",
      "weighted avg       0.90      0.89      0.89     44078\n",
      "\n"
     ]
    }
   ],
   "source": [
    "ros_lstm_model = Sequential()\n",
    "ros_lstm_model.add(LSTM(units=70, input_shape=(reshaped_X_train.shape[1], 1), return_sequences=True))\n",
    "ros_lstm_model.add(Dropout(0.2))\n",
    "ros_lstm_model.add(LSTM(units=70, return_sequences=True))\n",
    "ros_lstm_model.add(Dropout(0.2))\n",
    "ros_lstm_model.add(LSTM(units=70))\n",
    "ros_lstm_model.add(Dropout(0.2))\n",
    "ros_lstm_model.add(Dense(32, activation='relu'))\n",
    "ros_lstm_model.add(Dense(1, activation='sigmoid'))\n",
    "\n",
    "ros_lstm_model.compile(loss='binary_crossentropy', optimizer='Adam', metrics=['accuracy'])\n",
    "ros_lstm_model.fit(reshaped_X_train, ros_y_train, epochs=30, batch_size=32, verbose=1)\n",
    "predictions = ros_lstm_model.predict(ros_X_test)\n",
    "predicted_labels = (predictions > 0.5).astype(int)\n",
    "report = classification_report(ros_y_test, predicted_labels)\n",
    "print(report)\n"
   ]
  },
  {
   "cell_type": "markdown",
   "id": "bc4f13a2-23af-44b7-82bd-1dc67b4d567d",
   "metadata": {},
   "source": [
    "## ROS-CNN"
   ]
  },
  {
   "cell_type": "code",
   "execution_count": 132,
   "id": "66d10b65-7286-4926-98c5-ae1ee0d0b1eb",
   "metadata": {},
   "outputs": [
    {
     "name": "stdout",
     "output_type": "stream",
     "text": [
      "Epoch 1/10\n",
      "\u001b[1m3214/3214\u001b[0m \u001b[32m━━━━━━━━━━━━━━━━━━━━\u001b[0m\u001b[37m\u001b[0m \u001b[1m7s\u001b[0m 2ms/step - accuracy: 0.5795 - loss: 16.8736\n",
      "Epoch 2/10\n",
      "\u001b[1m3214/3214\u001b[0m \u001b[32m━━━━━━━━━━━━━━━━━━━━\u001b[0m\u001b[37m\u001b[0m \u001b[1m6s\u001b[0m 2ms/step - accuracy: 0.6176 - loss: 1.2633\n",
      "Epoch 3/10\n",
      "\u001b[1m3214/3214\u001b[0m \u001b[32m━━━━━━━━━━━━━━━━━━━━\u001b[0m\u001b[37m\u001b[0m \u001b[1m6s\u001b[0m 2ms/step - accuracy: 0.6429 - loss: 0.6476\n",
      "Epoch 4/10\n",
      "\u001b[1m3214/3214\u001b[0m \u001b[32m━━━━━━━━━━━━━━━━━━━━\u001b[0m\u001b[37m\u001b[0m \u001b[1m6s\u001b[0m 2ms/step - accuracy: 0.6432 - loss: 0.6432\n",
      "Epoch 5/10\n",
      "\u001b[1m3214/3214\u001b[0m \u001b[32m━━━━━━━━━━━━━━━━━━━━\u001b[0m\u001b[37m\u001b[0m \u001b[1m6s\u001b[0m 2ms/step - accuracy: 0.6565 - loss: 0.6284\n",
      "Epoch 6/10\n",
      "\u001b[1m3214/3214\u001b[0m \u001b[32m━━━━━━━━━━━━━━━━━━━━\u001b[0m\u001b[37m\u001b[0m \u001b[1m6s\u001b[0m 2ms/step - accuracy: 0.6549 - loss: 0.6295\n",
      "Epoch 7/10\n",
      "\u001b[1m3214/3214\u001b[0m \u001b[32m━━━━━━━━━━━━━━━━━━━━\u001b[0m\u001b[37m\u001b[0m \u001b[1m6s\u001b[0m 2ms/step - accuracy: 0.6607 - loss: 0.6413\n",
      "Epoch 8/10\n",
      "\u001b[1m3214/3214\u001b[0m \u001b[32m━━━━━━━━━━━━━━━━━━━━\u001b[0m\u001b[37m\u001b[0m \u001b[1m6s\u001b[0m 2ms/step - accuracy: 0.6644 - loss: 0.6193\n",
      "Epoch 9/10\n",
      "\u001b[1m3214/3214\u001b[0m \u001b[32m━━━━━━━━━━━━━━━━━━━━\u001b[0m\u001b[37m\u001b[0m \u001b[1m6s\u001b[0m 2ms/step - accuracy: 0.6680 - loss: 0.6173\n",
      "Epoch 10/10\n",
      "\u001b[1m3214/3214\u001b[0m \u001b[32m━━━━━━━━━━━━━━━━━━━━\u001b[0m\u001b[37m\u001b[0m \u001b[1m6s\u001b[0m 2ms/step - accuracy: 0.6676 - loss: 0.6104\n",
      "\u001b[1m1378/1378\u001b[0m \u001b[32m━━━━━━━━━━━━━━━━━━━━\u001b[0m\u001b[37m\u001b[0m \u001b[1m1s\u001b[0m 987us/step\n",
      "              precision    recall  f1-score   support\n",
      "\n",
      "           0       0.65      0.75      0.70     22125\n",
      "           1       0.70      0.60      0.64     21953\n",
      "\n",
      "    accuracy                           0.67     44078\n",
      "   macro avg       0.68      0.67      0.67     44078\n",
      "weighted avg       0.68      0.67      0.67     44078\n",
      "\n"
     ]
    }
   ],
   "source": [
    "ros_cnn_model = Sequential()\n",
    "ros_cnn_model.add(Conv1D(filters=32, kernel_size=3, activation='relu', input_shape=(ros_X_train_array.shape[1], 1)))\n",
    "ros_cnn_model.add(MaxPooling1D(pool_size=2))\n",
    "ros_cnn_model.add(Flatten())\n",
    "ros_cnn_model.add(Dense(64, activation='relu'))\n",
    "ros_cnn_model.add(Dense(1, activation='sigmoid'))  # Output layer for binary classification\n",
    "\n",
    "ros_cnn_model.compile(loss='binary_crossentropy', optimizer='adam', metrics=['accuracy'])\n",
    "ros_cnn_model.fit(reshaped_X_train, ros_y_train, epochs=10, batch_size=32, verbose=1)\n",
    "predictions = ros_cnn_model.predict(ros_X_test)\n",
    "predicted_labels = (predictions > 0.5).astype(int)\n",
    "report = classification_report(ros_y_test, predicted_labels)\n",
    "print(report)"
   ]
  },
  {
   "cell_type": "markdown",
   "id": "081e9b4f-a8af-4b21-b49a-66420b06024b",
   "metadata": {},
   "source": [
    "## UNDERSAMPLING"
   ]
  },
  {
   "cell_type": "code",
   "execution_count": 133,
   "id": "fd4ada9f-c1f7-4a60-8be9-8e7cfd9c686b",
   "metadata": {},
   "outputs": [],
   "source": [
    "random_undersampler = RandomUnderSampler(random_state=0)\n",
    "rus_X, rus_y = random_undersampler.fit_resample(X, y)"
   ]
  },
  {
   "cell_type": "code",
   "execution_count": 134,
   "id": "d783564f-8f9a-43d2-87bc-d66951245982",
   "metadata": {},
   "outputs": [
    {
     "name": "stdout",
     "output_type": "stream",
     "text": [
      "Random Undersampled Training data:  (10440, 15)\n",
      "Random Undersampled Testing data:  (10440,)\n"
     ]
    }
   ],
   "source": [
    "print('Random Undersampled Training data: ', rus_X.shape)\n",
    "print('Random Undersampled Testing data: ', rus_y.shape)"
   ]
  },
  {
   "cell_type": "code",
   "execution_count": 135,
   "id": "a7f90713-a1d1-4705-9f1b-514939a6d5e7",
   "metadata": {},
   "outputs": [],
   "source": [
    "rus_X_train, rus_X_test, rus_y_train, rus_y_test = train_test_split(rus_X, rus_y, test_size=0.3, random_state=42)"
   ]
  },
  {
   "cell_type": "markdown",
   "id": "9abd8911-de16-496e-97cb-e2954b840b20",
   "metadata": {},
   "source": [
    "## RUS - XGBOOST Model"
   ]
  },
  {
   "cell_type": "code",
   "execution_count": 136,
   "id": "afa2887c-a5b2-4ce0-8209-772273399a51",
   "metadata": {},
   "outputs": [
    {
     "name": "stdout",
     "output_type": "stream",
     "text": [
      "Accuracy: 0.7225415070242657\n",
      "Classification Report:\n",
      "              precision    recall  f1-score   support\n",
      "\n",
      "           0       0.71      0.76      0.73      1584\n",
      "           1       0.73      0.69      0.71      1548\n",
      "\n",
      "    accuracy                           0.72      3132\n",
      "   macro avg       0.72      0.72      0.72      3132\n",
      "weighted avg       0.72      0.72      0.72      3132\n",
      "\n"
     ]
    }
   ],
   "source": [
    "rus_xgboost_model = xgb.XGBClassifier(n_estimators = 100, random_state = 40)\n",
    "rus_xgboost_model.fit(rus_X_train, rus_y_train)\n",
    "y_pred = rus_xgboost_model.predict(rus_X_test)\n",
    "accuracy = accuracy_score(rus_y_test, y_pred)\n",
    "print(\"Accuracy:\", accuracy)\n",
    "print(\"Classification Report:\")\n",
    "print(classification_report(rus_y_test, y_pred))"
   ]
  },
  {
   "cell_type": "markdown",
   "id": "a4314700-11ab-4752-a365-431af8d566a6",
   "metadata": {},
   "source": [
    "## RUS - Random Forest Model"
   ]
  },
  {
   "cell_type": "code",
   "execution_count": 137,
   "id": "52ea87df-7356-4b7d-885d-030360c4c5fd",
   "metadata": {},
   "outputs": [
    {
     "name": "stdout",
     "output_type": "stream",
     "text": [
      "              precision    recall  f1-score   support\n",
      "\n",
      "           0       0.72      0.80      0.76      1584\n",
      "           1       0.77      0.68      0.72      1548\n",
      "\n",
      "    accuracy                           0.74      3132\n",
      "   macro avg       0.75      0.74      0.74      3132\n",
      "weighted avg       0.75      0.74      0.74      3132\n",
      "\n"
     ]
    }
   ],
   "source": [
    "rus_rf_model = RandomForestClassifier(n_estimators = 50, random_state = 40)\n",
    "rus_rf_model.fit(rus_X_train, rus_y_train)\n",
    "y_pred = rus_rf_model.predict(rus_X_test)\n",
    "accuracy = accuracy_score(rus_y_test, y_pred)\n",
    "print(classification_report(rus_y_test, y_pred))"
   ]
  },
  {
   "cell_type": "markdown",
   "id": "3891e75a-c905-476b-9f2c-24245dbaaf18",
   "metadata": {
    "jp-MarkdownHeadingCollapsed": true
   },
   "source": [
    "# RUS-LSTM MODEL"
   ]
  },
  {
   "cell_type": "code",
   "execution_count": 138,
   "id": "a8916c52-d48d-460c-b348-2b74f112c815",
   "metadata": {},
   "outputs": [],
   "source": [
    "rus_X_train_array = rus_X_train.to_numpy()\n",
    "reshaped_X_train = rus_X_train_array.reshape((rus_X_train_array.shape[0], rus_X_train_array.shape[1], 1))"
   ]
  },
  {
   "cell_type": "code",
   "execution_count": 139,
   "id": "e9a22739-0547-487c-8a7f-126b450ec91f",
   "metadata": {},
   "outputs": [
    {
     "name": "stdout",
     "output_type": "stream",
     "text": [
      "Epoch 1/30\n",
      "\u001b[1m229/229\u001b[0m \u001b[32m━━━━━━━━━━━━━━━━━━━━\u001b[0m\u001b[37m\u001b[0m \u001b[1m12s\u001b[0m 30ms/step - accuracy: 0.5514 - loss: 0.6815\n",
      "Epoch 2/30\n",
      "\u001b[1m229/229\u001b[0m \u001b[32m━━━━━━━━━━━━━━━━━━━━\u001b[0m\u001b[37m\u001b[0m \u001b[1m7s\u001b[0m 31ms/step - accuracy: 0.5959 - loss: 0.6698\n",
      "Epoch 3/30\n",
      "\u001b[1m229/229\u001b[0m \u001b[32m━━━━━━━━━━━━━━━━━━━━\u001b[0m\u001b[37m\u001b[0m \u001b[1m7s\u001b[0m 31ms/step - accuracy: 0.5980 - loss: 0.6662\n",
      "Epoch 4/30\n",
      "\u001b[1m229/229\u001b[0m \u001b[32m━━━━━━━━━━━━━━━━━━━━\u001b[0m\u001b[37m\u001b[0m \u001b[1m7s\u001b[0m 30ms/step - accuracy: 0.5987 - loss: 0.6602\n",
      "Epoch 5/30\n",
      "\u001b[1m229/229\u001b[0m \u001b[32m━━━━━━━━━━━━━━━━━━━━\u001b[0m\u001b[37m\u001b[0m \u001b[1m7s\u001b[0m 30ms/step - accuracy: 0.6066 - loss: 0.6577\n",
      "Epoch 6/30\n",
      "\u001b[1m229/229\u001b[0m \u001b[32m━━━━━━━━━━━━━━━━━━━━\u001b[0m\u001b[37m\u001b[0m \u001b[1m7s\u001b[0m 31ms/step - accuracy: 0.6052 - loss: 0.6533\n",
      "Epoch 7/30\n",
      "\u001b[1m229/229\u001b[0m \u001b[32m━━━━━━━━━━━━━━━━━━━━\u001b[0m\u001b[37m\u001b[0m \u001b[1m7s\u001b[0m 30ms/step - accuracy: 0.6032 - loss: 0.6538\n",
      "Epoch 8/30\n",
      "\u001b[1m229/229\u001b[0m \u001b[32m━━━━━━━━━━━━━━━━━━━━\u001b[0m\u001b[37m\u001b[0m \u001b[1m7s\u001b[0m 31ms/step - accuracy: 0.6213 - loss: 0.6511\n",
      "Epoch 9/30\n",
      "\u001b[1m229/229\u001b[0m \u001b[32m━━━━━━━━━━━━━━━━━━━━\u001b[0m\u001b[37m\u001b[0m \u001b[1m7s\u001b[0m 32ms/step - accuracy: 0.6269 - loss: 0.6471\n",
      "Epoch 10/30\n",
      "\u001b[1m229/229\u001b[0m \u001b[32m━━━━━━━━━━━━━━━━━━━━\u001b[0m\u001b[37m\u001b[0m \u001b[1m7s\u001b[0m 30ms/step - accuracy: 0.6355 - loss: 0.6412\n",
      "Epoch 11/30\n",
      "\u001b[1m229/229\u001b[0m \u001b[32m━━━━━━━━━━━━━━━━━━━━\u001b[0m\u001b[37m\u001b[0m \u001b[1m7s\u001b[0m 30ms/step - accuracy: 0.6417 - loss: 0.6390\n",
      "Epoch 12/30\n",
      "\u001b[1m229/229\u001b[0m \u001b[32m━━━━━━━━━━━━━━━━━━━━\u001b[0m\u001b[37m\u001b[0m \u001b[1m7s\u001b[0m 30ms/step - accuracy: 0.6486 - loss: 0.6335\n",
      "Epoch 13/30\n",
      "\u001b[1m229/229\u001b[0m \u001b[32m━━━━━━━━━━━━━━━━━━━━\u001b[0m\u001b[37m\u001b[0m \u001b[1m7s\u001b[0m 29ms/step - accuracy: 0.6479 - loss: 0.6255\n",
      "Epoch 14/30\n",
      "\u001b[1m229/229\u001b[0m \u001b[32m━━━━━━━━━━━━━━━━━━━━\u001b[0m\u001b[37m\u001b[0m \u001b[1m7s\u001b[0m 30ms/step - accuracy: 0.6643 - loss: 0.6178\n",
      "Epoch 15/30\n",
      "\u001b[1m229/229\u001b[0m \u001b[32m━━━━━━━━━━━━━━━━━━━━\u001b[0m\u001b[37m\u001b[0m \u001b[1m7s\u001b[0m 30ms/step - accuracy: 0.6721 - loss: 0.6116\n",
      "Epoch 16/30\n",
      "\u001b[1m229/229\u001b[0m \u001b[32m━━━━━━━━━━━━━━━━━━━━\u001b[0m\u001b[37m\u001b[0m \u001b[1m7s\u001b[0m 30ms/step - accuracy: 0.6620 - loss: 0.6212\n",
      "Epoch 17/30\n",
      "\u001b[1m229/229\u001b[0m \u001b[32m━━━━━━━━━━━━━━━━━━━━\u001b[0m\u001b[37m\u001b[0m \u001b[1m7s\u001b[0m 30ms/step - accuracy: 0.6826 - loss: 0.6051\n",
      "Epoch 18/30\n",
      "\u001b[1m229/229\u001b[0m \u001b[32m━━━━━━━━━━━━━━━━━━━━\u001b[0m\u001b[37m\u001b[0m \u001b[1m7s\u001b[0m 30ms/step - accuracy: 0.6875 - loss: 0.6024\n",
      "Epoch 19/30\n",
      "\u001b[1m229/229\u001b[0m \u001b[32m━━━━━━━━━━━━━━━━━━━━\u001b[0m\u001b[37m\u001b[0m \u001b[1m7s\u001b[0m 30ms/step - accuracy: 0.6742 - loss: 0.6070\n",
      "Epoch 20/30\n",
      "\u001b[1m229/229\u001b[0m \u001b[32m━━━━━━━━━━━━━━━━━━━━\u001b[0m\u001b[37m\u001b[0m \u001b[1m7s\u001b[0m 30ms/step - accuracy: 0.6800 - loss: 0.6011\n",
      "Epoch 21/30\n",
      "\u001b[1m229/229\u001b[0m \u001b[32m━━━━━━━━━━━━━━━━━━━━\u001b[0m\u001b[37m\u001b[0m \u001b[1m7s\u001b[0m 30ms/step - accuracy: 0.6978 - loss: 0.5870\n",
      "Epoch 22/30\n",
      "\u001b[1m229/229\u001b[0m \u001b[32m━━━━━━━━━━━━━━━━━━━━\u001b[0m\u001b[37m\u001b[0m \u001b[1m7s\u001b[0m 30ms/step - accuracy: 0.6925 - loss: 0.5920\n",
      "Epoch 23/30\n",
      "\u001b[1m229/229\u001b[0m \u001b[32m━━━━━━━━━━━━━━━━━━━━\u001b[0m\u001b[37m\u001b[0m \u001b[1m7s\u001b[0m 30ms/step - accuracy: 0.6901 - loss: 0.5908\n",
      "Epoch 24/30\n",
      "\u001b[1m229/229\u001b[0m \u001b[32m━━━━━━━━━━━━━━━━━━━━\u001b[0m\u001b[37m\u001b[0m \u001b[1m7s\u001b[0m 30ms/step - accuracy: 0.6943 - loss: 0.5944\n",
      "Epoch 25/30\n",
      "\u001b[1m229/229\u001b[0m \u001b[32m━━━━━━━━━━━━━━━━━━━━\u001b[0m\u001b[37m\u001b[0m \u001b[1m7s\u001b[0m 31ms/step - accuracy: 0.6984 - loss: 0.5818\n",
      "Epoch 26/30\n",
      "\u001b[1m229/229\u001b[0m \u001b[32m━━━━━━━━━━━━━━━━━━━━\u001b[0m\u001b[37m\u001b[0m \u001b[1m7s\u001b[0m 30ms/step - accuracy: 0.7050 - loss: 0.5812\n",
      "Epoch 27/30\n",
      "\u001b[1m229/229\u001b[0m \u001b[32m━━━━━━━━━━━━━━━━━━━━\u001b[0m\u001b[37m\u001b[0m \u001b[1m7s\u001b[0m 30ms/step - accuracy: 0.7178 - loss: 0.5643\n",
      "Epoch 28/30\n",
      "\u001b[1m229/229\u001b[0m \u001b[32m━━━━━━━━━━━━━━━━━━━━\u001b[0m\u001b[37m\u001b[0m \u001b[1m7s\u001b[0m 30ms/step - accuracy: 0.7215 - loss: 0.5653\n",
      "Epoch 29/30\n",
      "\u001b[1m229/229\u001b[0m \u001b[32m━━━━━━━━━━━━━━━━━━━━\u001b[0m\u001b[37m\u001b[0m \u001b[1m7s\u001b[0m 30ms/step - accuracy: 0.7168 - loss: 0.5628\n",
      "Epoch 30/30\n",
      "\u001b[1m229/229\u001b[0m \u001b[32m━━━━━━━━━━━━━━━━━━━━\u001b[0m\u001b[37m\u001b[0m \u001b[1m7s\u001b[0m 31ms/step - accuracy: 0.7153 - loss: 0.5606\n",
      "\u001b[1m98/98\u001b[0m \u001b[32m━━━━━━━━━━━━━━━━━━━━\u001b[0m\u001b[37m\u001b[0m \u001b[1m2s\u001b[0m 15ms/step\n",
      "              precision    recall  f1-score   support\n",
      "\n",
      "           0       0.66      0.63      0.65      1584\n",
      "           1       0.64      0.67      0.66      1548\n",
      "\n",
      "    accuracy                           0.65      3132\n",
      "   macro avg       0.65      0.65      0.65      3132\n",
      "weighted avg       0.65      0.65      0.65      3132\n",
      "\n"
     ]
    }
   ],
   "source": [
    "# Define the model\n",
    "rus_lstm_model = Sequential()\n",
    "rus_lstm_model.add(LSTM(units=70, input_shape=(reshaped_X_train.shape[1], 1), return_sequences=True))\n",
    "rus_lstm_model.add(Dropout(0.2))\n",
    "rus_lstm_model.add(LSTM(units=70, return_sequences=True))\n",
    "rus_lstm_model.add(Dropout(0.2))\n",
    "rus_lstm_model.add(LSTM(units=70))\n",
    "rus_lstm_model.add(Dropout(0.2))\n",
    "rus_lstm_model.add(Dense(32, activation='relu'))\n",
    "rus_lstm_model.add(Dense(1, activation='sigmoid'))\n",
    "\n",
    "rus_lstm_model.compile(loss='binary_crossentropy', optimizer='Adam', metrics=['accuracy'])\n",
    "\n",
    "rus_lstm_model.fit(reshaped_X_train, rus_y_train, epochs=30, batch_size=32, verbose=1)\n",
    "predictions = rus_lstm_model.predict(rus_X_test)\n",
    "predicted_labels = (predictions > 0.5).astype(int)\n",
    "\n",
    "report = classification_report(rus_y_test, predicted_labels)\n",
    "print(report)\n"
   ]
  },
  {
   "cell_type": "markdown",
   "id": "ed656ae2-9518-4898-a358-61758dd3cb2c",
   "metadata": {
    "jp-MarkdownHeadingCollapsed": true
   },
   "source": [
    "# RUS - CNN"
   ]
  },
  {
   "cell_type": "code",
   "execution_count": 140,
   "id": "bd81d62c-f30b-4cf6-af50-de4ae344993d",
   "metadata": {},
   "outputs": [
    {
     "name": "stdout",
     "output_type": "stream",
     "text": [
      "Epoch 1/10\n",
      "\u001b[1m229/229\u001b[0m \u001b[32m━━━━━━━━━━━━━━━━━━━━\u001b[0m\u001b[37m\u001b[0m \u001b[1m1s\u001b[0m 2ms/step - accuracy: 0.5505 - loss: 38.7401\n",
      "Epoch 2/10\n",
      "\u001b[1m229/229\u001b[0m \u001b[32m━━━━━━━━━━━━━━━━━━━━\u001b[0m\u001b[37m\u001b[0m \u001b[1m0s\u001b[0m 2ms/step - accuracy: 0.5804 - loss: 14.2238\n",
      "Epoch 3/10\n",
      "\u001b[1m229/229\u001b[0m \u001b[32m━━━━━━━━━━━━━━━━━━━━\u001b[0m\u001b[37m\u001b[0m \u001b[1m0s\u001b[0m 2ms/step - accuracy: 0.5715 - loss: 11.1163\n",
      "Epoch 4/10\n",
      "\u001b[1m229/229\u001b[0m \u001b[32m━━━━━━━━━━━━━━━━━━━━\u001b[0m\u001b[37m\u001b[0m \u001b[1m0s\u001b[0m 2ms/step - accuracy: 0.5779 - loss: 6.4187\n",
      "Epoch 5/10\n",
      "\u001b[1m229/229\u001b[0m \u001b[32m━━━━━━━━━━━━━━━━━━━━\u001b[0m\u001b[37m\u001b[0m \u001b[1m0s\u001b[0m 2ms/step - accuracy: 0.5946 - loss: 10.2940\n",
      "Epoch 6/10\n",
      "\u001b[1m229/229\u001b[0m \u001b[32m━━━━━━━━━━━━━━━━━━━━\u001b[0m\u001b[37m\u001b[0m \u001b[1m0s\u001b[0m 2ms/step - accuracy: 0.5810 - loss: 6.8767\n",
      "Epoch 7/10\n",
      "\u001b[1m229/229\u001b[0m \u001b[32m━━━━━━━━━━━━━━━━━━━━\u001b[0m\u001b[37m\u001b[0m \u001b[1m0s\u001b[0m 2ms/step - accuracy: 0.5622 - loss: 7.6674\n",
      "Epoch 8/10\n",
      "\u001b[1m229/229\u001b[0m \u001b[32m━━━━━━━━━━━━━━━━━━━━\u001b[0m\u001b[37m\u001b[0m \u001b[1m0s\u001b[0m 2ms/step - accuracy: 0.5800 - loss: 7.4204\n",
      "Epoch 9/10\n",
      "\u001b[1m229/229\u001b[0m \u001b[32m━━━━━━━━━━━━━━━━━━━━\u001b[0m\u001b[37m\u001b[0m \u001b[1m0s\u001b[0m 2ms/step - accuracy: 0.6032 - loss: 4.3652\n",
      "Epoch 10/10\n",
      "\u001b[1m229/229\u001b[0m \u001b[32m━━━━━━━━━━━━━━━━━━━━\u001b[0m\u001b[37m\u001b[0m \u001b[1m0s\u001b[0m 2ms/step - accuracy: 0.5687 - loss: 5.6876\n",
      "\u001b[1m98/98\u001b[0m \u001b[32m━━━━━━━━━━━━━━━━━━━━\u001b[0m\u001b[37m\u001b[0m \u001b[1m0s\u001b[0m 1ms/step\n",
      "              precision    recall  f1-score   support\n",
      "\n",
      "           0       0.56      0.77      0.65      1584\n",
      "           1       0.62      0.39      0.48      1548\n",
      "\n",
      "    accuracy                           0.58      3132\n",
      "   macro avg       0.59      0.58      0.56      3132\n",
      "weighted avg       0.59      0.58      0.56      3132\n",
      "\n"
     ]
    }
   ],
   "source": [
    "rus_cnn_model = Sequential()\n",
    "rus_cnn_model.add(Conv1D(filters=32, kernel_size=3, activation='relu', input_shape=(rus_X_train_array.shape[1], 1)))\n",
    "rus_cnn_model.add(MaxPooling1D(pool_size=2))\n",
    "rus_cnn_model.add(Flatten())\n",
    "rus_cnn_model.add(Dense(64, activation='relu'))\n",
    "rus_cnn_model.add(Dense(1, activation='sigmoid'))  # Output layer for binary classification\n",
    "\n",
    "rus_cnn_model.compile(loss='binary_crossentropy', optimizer='adam', metrics=['accuracy'])\n",
    "rus_cnn_model.fit(reshaped_X_train, rus_y_train, epochs=10, batch_size=32, verbose=1)\n",
    "predictions = rus_cnn_model.predict(rus_X_test)\n",
    "predicted_labels = (predictions > 0.5).astype(int)\n",
    "report = classification_report(rus_y_test, predicted_labels)\n",
    "print(report)\n"
   ]
  },
  {
   "cell_type": "markdown",
   "id": "542107fe-e15c-4ed5-b4e5-a2645bad85dd",
   "metadata": {},
   "source": [
    "## Near Miss Undersampling"
   ]
  },
  {
   "cell_type": "code",
   "execution_count": 141,
   "id": "8121cee2-38c0-4f0a-8f0c-2a953a202825",
   "metadata": {},
   "outputs": [],
   "source": [
    "nm_undersample = NearMiss(version=1)\n",
    "nm_X, nm_y = nm_undersample.fit_resample(X, y)"
   ]
  },
  {
   "cell_type": "code",
   "execution_count": 142,
   "id": "ae0cc187-b82d-4de1-9e71-0ad8e6b25170",
   "metadata": {},
   "outputs": [],
   "source": [
    "nm_X_train, nm_X_test, nm_y_train, nm_y_test = train_test_split(nm_X, nm_y, test_size=0.3, random_state=42)"
   ]
  },
  {
   "cell_type": "markdown",
   "id": "67ef3cfb-8529-433d-b93c-1eb3be3466f4",
   "metadata": {},
   "source": [
    "## NM - XGBoost Model"
   ]
  },
  {
   "cell_type": "code",
   "execution_count": 143,
   "id": "91174fd4-d905-43ae-885e-02b0762226f2",
   "metadata": {},
   "outputs": [
    {
     "name": "stdout",
     "output_type": "stream",
     "text": [
      "Accuracy: 0.95242656449553\n",
      "Classification Report:\n",
      "              precision    recall  f1-score   support\n",
      "\n",
      "           0       0.99      0.92      0.95      1584\n",
      "           1       0.92      0.99      0.95      1548\n",
      "\n",
      "    accuracy                           0.95      3132\n",
      "   macro avg       0.95      0.95      0.95      3132\n",
      "weighted avg       0.95      0.95      0.95      3132\n",
      "\n"
     ]
    }
   ],
   "source": [
    "nm_xgboost_model = xgb.XGBClassifier(n_estimators = 100, \n",
    "                                     max_depth = 10,\n",
    "                                     learning_rate = 0.1,\n",
    "                                     random_state = 42)\n",
    "nm_xgboost_model.fit(nm_X_train, nm_y_train)\n",
    "y_pred = nm_xgboost_model.predict(nm_X_test)\n",
    "accuracy = accuracy_score(nm_y_test, y_pred)\n",
    "print(\"Accuracy:\", accuracy)\n",
    "print(\"Classification Report:\")\n",
    "print(classification_report(nm_y_test, y_pred))"
   ]
  },
  {
   "cell_type": "markdown",
   "id": "26469156-8db9-4a9a-b524-9c8403f30d97",
   "metadata": {
    "jp-MarkdownHeadingCollapsed": true
   },
   "source": [
    "# NM-Random Forest"
   ]
  },
  {
   "cell_type": "code",
   "execution_count": 144,
   "id": "681f03d6-96bc-45eb-9494-41c4b9e7df0a",
   "metadata": {},
   "outputs": [
    {
     "name": "stdout",
     "output_type": "stream",
     "text": [
      "              precision    recall  f1-score   support\n",
      "\n",
      "           0       0.99      0.91      0.95      1584\n",
      "           1       0.92      0.99      0.95      1548\n",
      "\n",
      "    accuracy                           0.95      3132\n",
      "   macro avg       0.95      0.95      0.95      3132\n",
      "weighted avg       0.95      0.95      0.95      3132\n",
      "\n"
     ]
    }
   ],
   "source": [
    "nm_rf_model = RandomForestClassifier(n_estimators = 50, \n",
    "                                     max_depth = 10,\n",
    "                                     random_state = 42)\n",
    "nm_rf_model.fit(nm_X_train, nm_y_train)\n",
    "y_pred = nm_rf_model.predict(nm_X_test)\n",
    "accuracy = accuracy_score(nm_y_test, y_pred)\n",
    "print(classification_report(nm_y_test, y_pred))"
   ]
  },
  {
   "cell_type": "markdown",
   "id": "66c288d0-5364-4bd0-a1ac-0b60440789d5",
   "metadata": {
    "jp-MarkdownHeadingCollapsed": true
   },
   "source": [
    "# NM-LSTM"
   ]
  },
  {
   "cell_type": "code",
   "execution_count": 145,
   "id": "62bf2725-6825-4275-a01f-cc189f440387",
   "metadata": {},
   "outputs": [],
   "source": [
    "nm_X_train_array = nm_X_train.to_numpy()\n",
    "reshaped_X_train = nm_X_train_array.reshape((nm_X_train_array.shape[0], nm_X_train_array.shape[1], 1))"
   ]
  },
  {
   "cell_type": "code",
   "execution_count": 146,
   "id": "9ee25db6-179b-4ce8-9694-ce35e5460d1d",
   "metadata": {},
   "outputs": [
    {
     "name": "stdout",
     "output_type": "stream",
     "text": [
      "Epoch 1/5\n",
      "\u001b[1m229/229\u001b[0m \u001b[32m━━━━━━━━━━━━━━━━━━━━\u001b[0m\u001b[37m\u001b[0m \u001b[1m12s\u001b[0m 30ms/step - accuracy: 0.9175 - loss: 0.2635\n",
      "Epoch 2/5\n",
      "\u001b[1m229/229\u001b[0m \u001b[32m━━━━━━━━━━━━━━━━━━━━\u001b[0m\u001b[37m\u001b[0m \u001b[1m8s\u001b[0m 34ms/step - accuracy: 0.9456 - loss: 0.1537\n",
      "Epoch 3/5\n",
      "\u001b[1m229/229\u001b[0m \u001b[32m━━━━━━━━━━━━━━━━━━━━\u001b[0m\u001b[37m\u001b[0m \u001b[1m8s\u001b[0m 33ms/step - accuracy: 0.9503 - loss: 0.1543\n",
      "Epoch 4/5\n",
      "\u001b[1m229/229\u001b[0m \u001b[32m━━━━━━━━━━━━━━━━━━━━\u001b[0m\u001b[37m\u001b[0m \u001b[1m7s\u001b[0m 31ms/step - accuracy: 0.9515 - loss: 0.1455\n",
      "Epoch 5/5\n",
      "\u001b[1m229/229\u001b[0m \u001b[32m━━━━━━━━━━━━━━━━━━━━\u001b[0m\u001b[37m\u001b[0m \u001b[1m7s\u001b[0m 32ms/step - accuracy: 0.9455 - loss: 0.1568\n",
      "\u001b[1m98/98\u001b[0m \u001b[32m━━━━━━━━━━━━━━━━━━━━\u001b[0m\u001b[37m\u001b[0m \u001b[1m2s\u001b[0m 15ms/step\n",
      "              precision    recall  f1-score   support\n",
      "\n",
      "           0       0.99      0.91      0.95      1584\n",
      "           1       0.92      0.99      0.95      1548\n",
      "\n",
      "    accuracy                           0.95      3132\n",
      "   macro avg       0.95      0.95      0.95      3132\n",
      "weighted avg       0.95      0.95      0.95      3132\n",
      "\n"
     ]
    }
   ],
   "source": [
    "nm_lstm_model = Sequential()\n",
    "nm_lstm_model.add(LSTM(units=70, input_shape=(reshaped_X_train.shape[1], 1), return_sequences=True))\n",
    "nm_lstm_model.add(Dropout(0.2))\n",
    "nm_lstm_model.add(LSTM(units=70, return_sequences=True))\n",
    "nm_lstm_model.add(Dropout(0.2))\n",
    "nm_lstm_model.add(LSTM(units=70))\n",
    "nm_lstm_model.add(Dropout(0.2))\n",
    "nm_lstm_model.add(Dense(32, activation='relu'))\n",
    "nm_lstm_model.add(Dense(1, activation='sigmoid'))\n",
    "nm_lstm_model.compile(loss='binary_crossentropy', optimizer='Adam', metrics=['accuracy'])\n",
    "\n",
    "nm_lstm_model.fit(reshaped_X_train, nm_y_train, epochs=5, batch_size=32, verbose=1)\n",
    "predictions = nm_lstm_model.predict(nm_X_test)\n",
    "predicted_labels = (predictions > 0.5).astype(int)\n",
    "report = classification_report(nm_y_test, predicted_labels)\n",
    "print(report)"
   ]
  },
  {
   "cell_type": "markdown",
   "id": "bc820176-d414-4076-afaa-aa0286dbde79",
   "metadata": {},
   "source": [
    "# NM-CNN"
   ]
  },
  {
   "cell_type": "code",
   "execution_count": 147,
   "id": "e6ee9f28-bbdf-4d79-abab-f8a1693dea08",
   "metadata": {},
   "outputs": [
    {
     "name": "stdout",
     "output_type": "stream",
     "text": [
      "Epoch 1/10\n",
      "\u001b[1m229/229\u001b[0m \u001b[32m━━━━━━━━━━━━━━━━━━━━\u001b[0m\u001b[37m\u001b[0m \u001b[1m2s\u001b[0m 2ms/step - accuracy: 0.8116 - loss: 13.1762\n",
      "Epoch 2/10\n",
      "\u001b[1m229/229\u001b[0m \u001b[32m━━━━━━━━━━━━━━━━━━━━\u001b[0m\u001b[37m\u001b[0m \u001b[1m0s\u001b[0m 2ms/step - accuracy: 0.9307 - loss: 0.2313\n",
      "Epoch 3/10\n",
      "\u001b[1m229/229\u001b[0m \u001b[32m━━━━━━━━━━━━━━━━━━━━\u001b[0m\u001b[37m\u001b[0m \u001b[1m0s\u001b[0m 2ms/step - accuracy: 0.9379 - loss: 0.2121\n",
      "Epoch 4/10\n",
      "\u001b[1m229/229\u001b[0m \u001b[32m━━━━━━━━━━━━━━━━━━━━\u001b[0m\u001b[37m\u001b[0m \u001b[1m0s\u001b[0m 2ms/step - accuracy: 0.9337 - loss: 0.2200\n",
      "Epoch 5/10\n",
      "\u001b[1m229/229\u001b[0m \u001b[32m━━━━━━━━━━━━━━━━━━━━\u001b[0m\u001b[37m\u001b[0m \u001b[1m0s\u001b[0m 2ms/step - accuracy: 0.9359 - loss: 0.2005\n",
      "Epoch 6/10\n",
      "\u001b[1m229/229\u001b[0m \u001b[32m━━━━━━━━━━━━━━━━━━━━\u001b[0m\u001b[37m\u001b[0m \u001b[1m0s\u001b[0m 2ms/step - accuracy: 0.9328 - loss: 0.2321\n",
      "Epoch 7/10\n",
      "\u001b[1m229/229\u001b[0m \u001b[32m━━━━━━━━━━━━━━━━━━━━\u001b[0m\u001b[37m\u001b[0m \u001b[1m0s\u001b[0m 2ms/step - accuracy: 0.9391 - loss: 0.2003\n",
      "Epoch 8/10\n",
      "\u001b[1m229/229\u001b[0m \u001b[32m━━━━━━━━━━━━━━━━━━━━\u001b[0m\u001b[37m\u001b[0m \u001b[1m0s\u001b[0m 2ms/step - accuracy: 0.9298 - loss: 0.2431\n",
      "Epoch 9/10\n",
      "\u001b[1m229/229\u001b[0m \u001b[32m━━━━━━━━━━━━━━━━━━━━\u001b[0m\u001b[37m\u001b[0m \u001b[1m0s\u001b[0m 2ms/step - accuracy: 0.9320 - loss: 0.2522\n",
      "Epoch 10/10\n",
      "\u001b[1m229/229\u001b[0m \u001b[32m━━━━━━━━━━━━━━━━━━━━\u001b[0m\u001b[37m\u001b[0m \u001b[1m0s\u001b[0m 2ms/step - accuracy: 0.9468 - loss: 0.1844\n",
      "\u001b[1m98/98\u001b[0m \u001b[32m━━━━━━━━━━━━━━━━━━━━\u001b[0m\u001b[37m\u001b[0m \u001b[1m0s\u001b[0m 1ms/step\n",
      "              precision    recall  f1-score   support\n",
      "\n",
      "           0       0.98      0.92      0.95      1584\n",
      "           1       0.92      0.98      0.95      1548\n",
      "\n",
      "    accuracy                           0.95      3132\n",
      "   macro avg       0.95      0.95      0.95      3132\n",
      "weighted avg       0.95      0.95      0.95      3132\n",
      "\n"
     ]
    }
   ],
   "source": [
    "# Define the CNN model\n",
    "nm_cnn_model = Sequential()\n",
    "nm_cnn_model.add(Conv1D(filters=32, kernel_size=3, activation='relu', input_shape=(nm_X_train_array.shape[1], 1)))\n",
    "nm_cnn_model.add(MaxPooling1D(pool_size=2))\n",
    "nm_cnn_model.add(Flatten())\n",
    "nm_cnn_model.add(Dense(64, activation='relu'))\n",
    "nm_cnn_model.add(Dense(1, activation='sigmoid'))  # Output layer for binary classification\n",
    "\n",
    "nm_cnn_model.compile(loss='binary_crossentropy', optimizer='adam', metrics=['accuracy'])\n",
    "nm_cnn_model.fit(reshaped_X_train, nm_y_train, epochs=10, batch_size=32, verbose=1)\n",
    "predictions = nm_cnn_model.predict(nm_X_test)\n",
    "predicted_labels = (predictions > 0.5).astype(int)\n",
    "report = classification_report(nm_y_test, predicted_labels)\n",
    "print(report)\n"
   ]
  }
 ],
 "metadata": {
  "kernelspec": {
   "display_name": "Python 3 (ipykernel)",
   "language": "python",
   "name": "python3"
  },
  "language_info": {
   "codemirror_mode": {
    "name": "ipython",
    "version": 3
   },
   "file_extension": ".py",
   "mimetype": "text/x-python",
   "name": "python",
   "nbconvert_exporter": "python",
   "pygments_lexer": "ipython3",
   "version": "3.11.7"
  }
 },
 "nbformat": 4,
 "nbformat_minor": 5
}
